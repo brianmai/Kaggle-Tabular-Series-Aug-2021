{
 "cells": [
  {
   "cell_type": "code",
   "execution_count": 77,
   "id": "da0e4c34-c3d3-4c22-9569-04f77ba8fa86",
   "metadata": {},
   "outputs": [],
   "source": [
    "# This Python 3 environment comes with many helpful analytics libraries installed\n",
    "# It is defined by the kaggle/python Docker image: https://github.com/kaggle/docker-python\n",
    "# For example, here's several helpful packages to load\n",
    "\n",
    "import numpy as np # linear algebra\n",
    "import pandas as pd # data processing, CSV file I/O (e.g. pd.read_csv)\n",
    "\n",
    "# Input data files are available in the read-only \"../input/\" directory\n",
    "# For example, running this (by clicking run or pressing Shift+Enter) will list all files under the input directory\n",
    "\n",
    "import os\n",
    "for dirname, _, filenames in os.walk('/kaggle/input'):\n",
    "    for filename in filenames:\n",
    "        print(os.path.join(dirname, filename))\n",
    "\n",
    "# You can write up to 20GB to the current directory (/kaggle/working/) that gets preserved as output when you create a version using \"Save & Run All\" \n",
    "# You can also write temporary files to /kaggle/temp/, but they won't be saved outside of the current session"
   ]
  },
  {
   "cell_type": "code",
   "execution_count": 73,
   "id": "4fc475b2-decd-4981-9092-c79493a3d42c",
   "metadata": {
    "tags": []
   },
   "outputs": [],
   "source": [
    "#Reference\n",
    "\n",
    "# https://www.kaggle.com/scr0ll0/august-2021-lgbm-xgb-catboost-optuna#3.-Optuna"
   ]
  },
  {
   "cell_type": "markdown",
   "id": "e4459cea",
   "metadata": {
    "tags": []
   },
   "source": [
    "# Import packages and dataset"
   ]
  },
  {
   "cell_type": "code",
   "execution_count": 1,
   "id": "e2b96f8a",
   "metadata": {},
   "outputs": [],
   "source": [
    "import pandas as pd\n",
    "import numpy as np\n",
    "\n",
    "import matplotlib.pyplot as plt\n",
    "import seaborn as sns\n",
    "\n",
    "import warnings\n",
    "warnings.filterwarnings('ignore')\n",
    "\n",
    "%matplotlib inline\n",
    "\n",
    "np.random.seed(42)"
   ]
  },
  {
   "cell_type": "code",
   "execution_count": 2,
   "id": "cd1b3539",
   "metadata": {},
   "outputs": [],
   "source": [
    "from IPython.core.interactiveshell import InteractiveShell\n",
    "InteractiveShell.ast_node_interactivity = \"all\""
   ]
  },
  {
   "cell_type": "code",
   "execution_count": 71,
   "id": "c43613d8",
   "metadata": {},
   "outputs": [],
   "source": [
    "from pandas_profiling import ProfileReport\n",
    "\n",
    "import xgboost as xgb\n",
    "import catboost as cb\n",
    "import lightgbm as lgbm\n",
    "\n",
    "from sklearn.model_selection import StratifiedKFold, StratifiedShuffleSplit\n",
    "from sklearn.model_selection import cross_val_score, train_test_split\n",
    "from sklearn.metrics import mean_squared_error\n",
    "\n",
    "import optuna\n",
    "optuna.logging.set_verbosity(optuna.logging.WARNING) #Turn off printing result of each trial"
   ]
  },
  {
   "cell_type": "code",
   "execution_count": 50,
   "id": "582f63c6",
   "metadata": {},
   "outputs": [],
   "source": [
    "train = pd.read_csv('train.csv')\n",
    "test = pd.read_csv('test.csv')\n",
    "sample_submission = pd.read_csv('sample_submission.csv')"
   ]
  },
  {
   "cell_type": "code",
   "execution_count": 51,
   "id": "fe1c0f61-4131-480f-8575-f81a52a27bab",
   "metadata": {},
   "outputs": [],
   "source": [
    "# Create sample to build model faster\n",
    "train_sample = train.sample(5000)\n",
    "train_sample =train_sample.reset_index(drop=True) # Need this otherwise function below to rung XGB, Catboost etc. will throw error"
   ]
  },
  {
   "cell_type": "code",
   "execution_count": 52,
   "id": "74e6e6d7-82d1-4b47-ab1d-8a7149f5004c",
   "metadata": {
    "tags": []
   },
   "outputs": [],
   "source": [
    "X = train_sample.drop(['id','loss'], axis=1)\n",
    "y = train_sample['loss']\n",
    "\n",
    "test=test.drop('id',axis=1)"
   ]
  },
  {
   "cell_type": "markdown",
   "id": "9e4aa38e-5120-4ca1-9cef-26c8fe8268b0",
   "metadata": {
    "heading_collapsed": "true",
    "tags": []
   },
   "source": [
    "# Exploratory Data Analysis"
   ]
  },
  {
   "cell_type": "code",
   "execution_count": 10,
   "id": "bde34628",
   "metadata": {
    "collapsed": true,
    "jupyter": {
     "outputs_hidden": true
    },
    "tags": []
   },
   "outputs": [
    {
     "data": {
      "text/plain": [
       "(2500, 102)"
      ]
     },
     "execution_count": 10,
     "metadata": {},
     "output_type": "execute_result"
    },
    {
     "name": "stdout",
     "output_type": "stream",
     "text": [
      "<class 'pandas.core.frame.DataFrame'>\n",
      "Int64Index: 2500 entries, 38683 to 164655\n",
      "Columns: 102 entries, id to loss\n",
      "dtypes: float64(95), int64(7)\n",
      "memory usage: 2.0 MB\n"
     ]
    },
    {
     "data": {
      "text/html": [
       "<div>\n",
       "<style scoped>\n",
       "    .dataframe tbody tr th:only-of-type {\n",
       "        vertical-align: middle;\n",
       "    }\n",
       "\n",
       "    .dataframe tbody tr th {\n",
       "        vertical-align: top;\n",
       "    }\n",
       "\n",
       "    .dataframe thead th {\n",
       "        text-align: right;\n",
       "    }\n",
       "</style>\n",
       "<table border=\"1\" class=\"dataframe\">\n",
       "  <thead>\n",
       "    <tr style=\"text-align: right;\">\n",
       "      <th></th>\n",
       "      <th>id</th>\n",
       "      <th>f0</th>\n",
       "      <th>f1</th>\n",
       "      <th>f2</th>\n",
       "      <th>f3</th>\n",
       "      <th>f4</th>\n",
       "      <th>f5</th>\n",
       "      <th>f6</th>\n",
       "      <th>f7</th>\n",
       "      <th>f8</th>\n",
       "      <th>...</th>\n",
       "      <th>f91</th>\n",
       "      <th>f92</th>\n",
       "      <th>f93</th>\n",
       "      <th>f94</th>\n",
       "      <th>f95</th>\n",
       "      <th>f96</th>\n",
       "      <th>f97</th>\n",
       "      <th>f98</th>\n",
       "      <th>f99</th>\n",
       "      <th>loss</th>\n",
       "    </tr>\n",
       "  </thead>\n",
       "  <tbody>\n",
       "    <tr>\n",
       "      <th>38683</th>\n",
       "      <td>38683</td>\n",
       "      <td>0.350894</td>\n",
       "      <td>11</td>\n",
       "      <td>0.532066</td>\n",
       "      <td>-0.846378</td>\n",
       "      <td>351.1160</td>\n",
       "      <td>1.740850</td>\n",
       "      <td>131.19900</td>\n",
       "      <td>-0.175430</td>\n",
       "      <td>174.29400</td>\n",
       "      <td>...</td>\n",
       "      <td>13028.1000</td>\n",
       "      <td>8.263590</td>\n",
       "      <td>1.60372</td>\n",
       "      <td>-0.515793</td>\n",
       "      <td>-1.062870</td>\n",
       "      <td>2.29640</td>\n",
       "      <td>0.682706</td>\n",
       "      <td>3.73659</td>\n",
       "      <td>26.66510</td>\n",
       "      <td>0</td>\n",
       "    </tr>\n",
       "    <tr>\n",
       "      <th>64939</th>\n",
       "      <td>64939</td>\n",
       "      <td>0.694336</td>\n",
       "      <td>60</td>\n",
       "      <td>1.380260</td>\n",
       "      <td>0.621514</td>\n",
       "      <td>48.6641</td>\n",
       "      <td>7.469840</td>\n",
       "      <td>106.38000</td>\n",
       "      <td>0.681666</td>\n",
       "      <td>-3.56084</td>\n",
       "      <td>...</td>\n",
       "      <td>140.3980</td>\n",
       "      <td>-0.377886</td>\n",
       "      <td>4.21188</td>\n",
       "      <td>0.135265</td>\n",
       "      <td>-5.683290</td>\n",
       "      <td>2.37999</td>\n",
       "      <td>0.249169</td>\n",
       "      <td>1.62031</td>\n",
       "      <td>15.48560</td>\n",
       "      <td>7</td>\n",
       "    </tr>\n",
       "    <tr>\n",
       "      <th>3954</th>\n",
       "      <td>3954</td>\n",
       "      <td>0.310044</td>\n",
       "      <td>22</td>\n",
       "      <td>0.870989</td>\n",
       "      <td>-0.872505</td>\n",
       "      <td>4165.5300</td>\n",
       "      <td>5.981530</td>\n",
       "      <td>302.96300</td>\n",
       "      <td>0.814370</td>\n",
       "      <td>192.29200</td>\n",
       "      <td>...</td>\n",
       "      <td>254.2760</td>\n",
       "      <td>18.159200</td>\n",
       "      <td>1.69890</td>\n",
       "      <td>0.538787</td>\n",
       "      <td>-0.082383</td>\n",
       "      <td>3.28431</td>\n",
       "      <td>0.497846</td>\n",
       "      <td>1.42185</td>\n",
       "      <td>10.36970</td>\n",
       "      <td>34</td>\n",
       "    </tr>\n",
       "    <tr>\n",
       "      <th>120374</th>\n",
       "      <td>120374</td>\n",
       "      <td>0.449736</td>\n",
       "      <td>23</td>\n",
       "      <td>-3.320080</td>\n",
       "      <td>0.535662</td>\n",
       "      <td>221.8440</td>\n",
       "      <td>0.511201</td>\n",
       "      <td>7.66738</td>\n",
       "      <td>0.878341</td>\n",
       "      <td>-66.60980</td>\n",
       "      <td>...</td>\n",
       "      <td>17143.8000</td>\n",
       "      <td>16.709300</td>\n",
       "      <td>3.44528</td>\n",
       "      <td>-0.346934</td>\n",
       "      <td>3.745090</td>\n",
       "      <td>2.19290</td>\n",
       "      <td>0.760123</td>\n",
       "      <td>1.71416</td>\n",
       "      <td>5.37716</td>\n",
       "      <td>1</td>\n",
       "    </tr>\n",
       "    <tr>\n",
       "      <th>172861</th>\n",
       "      <td>172861</td>\n",
       "      <td>0.609567</td>\n",
       "      <td>33</td>\n",
       "      <td>1.069800</td>\n",
       "      <td>1.162900</td>\n",
       "      <td>18938.5000</td>\n",
       "      <td>6.765720</td>\n",
       "      <td>196.47800</td>\n",
       "      <td>0.752956</td>\n",
       "      <td>10.19830</td>\n",
       "      <td>...</td>\n",
       "      <td>-42.3153</td>\n",
       "      <td>6.638530</td>\n",
       "      <td>3.84949</td>\n",
       "      <td>-1.148750</td>\n",
       "      <td>-18.826200</td>\n",
       "      <td>1.54535</td>\n",
       "      <td>0.293714</td>\n",
       "      <td>1.83411</td>\n",
       "      <td>2.44546</td>\n",
       "      <td>6</td>\n",
       "    </tr>\n",
       "  </tbody>\n",
       "</table>\n",
       "<p>5 rows × 102 columns</p>\n",
       "</div>"
      ],
      "text/plain": [
       "            id        f0  f1        f2        f3          f4        f5  \\\n",
       "38683    38683  0.350894  11  0.532066 -0.846378    351.1160  1.740850   \n",
       "64939    64939  0.694336  60  1.380260  0.621514     48.6641  7.469840   \n",
       "3954      3954  0.310044  22  0.870989 -0.872505   4165.5300  5.981530   \n",
       "120374  120374  0.449736  23 -3.320080  0.535662    221.8440  0.511201   \n",
       "172861  172861  0.609567  33  1.069800  1.162900  18938.5000  6.765720   \n",
       "\n",
       "               f6        f7         f8  ...         f91        f92      f93  \\\n",
       "38683   131.19900 -0.175430  174.29400  ...  13028.1000   8.263590  1.60372   \n",
       "64939   106.38000  0.681666   -3.56084  ...    140.3980  -0.377886  4.21188   \n",
       "3954    302.96300  0.814370  192.29200  ...    254.2760  18.159200  1.69890   \n",
       "120374    7.66738  0.878341  -66.60980  ...  17143.8000  16.709300  3.44528   \n",
       "172861  196.47800  0.752956   10.19830  ...    -42.3153   6.638530  3.84949   \n",
       "\n",
       "             f94        f95      f96       f97      f98       f99  loss  \n",
       "38683  -0.515793  -1.062870  2.29640  0.682706  3.73659  26.66510     0  \n",
       "64939   0.135265  -5.683290  2.37999  0.249169  1.62031  15.48560     7  \n",
       "3954    0.538787  -0.082383  3.28431  0.497846  1.42185  10.36970    34  \n",
       "120374 -0.346934   3.745090  2.19290  0.760123  1.71416   5.37716     1  \n",
       "172861 -1.148750 -18.826200  1.54535  0.293714  1.83411   2.44546     6  \n",
       "\n",
       "[5 rows x 102 columns]"
      ]
     },
     "execution_count": 10,
     "metadata": {},
     "output_type": "execute_result"
    },
    {
     "data": {
      "text/html": [
       "<div>\n",
       "<style scoped>\n",
       "    .dataframe tbody tr th:only-of-type {\n",
       "        vertical-align: middle;\n",
       "    }\n",
       "\n",
       "    .dataframe tbody tr th {\n",
       "        vertical-align: top;\n",
       "    }\n",
       "\n",
       "    .dataframe thead th {\n",
       "        text-align: right;\n",
       "    }\n",
       "</style>\n",
       "<table border=\"1\" class=\"dataframe\">\n",
       "  <thead>\n",
       "    <tr style=\"text-align: right;\">\n",
       "      <th></th>\n",
       "      <th>id</th>\n",
       "      <th>f0</th>\n",
       "      <th>f1</th>\n",
       "      <th>f2</th>\n",
       "      <th>f3</th>\n",
       "      <th>f4</th>\n",
       "      <th>f5</th>\n",
       "      <th>f6</th>\n",
       "      <th>f7</th>\n",
       "      <th>f8</th>\n",
       "      <th>...</th>\n",
       "      <th>f91</th>\n",
       "      <th>f92</th>\n",
       "      <th>f93</th>\n",
       "      <th>f94</th>\n",
       "      <th>f95</th>\n",
       "      <th>f96</th>\n",
       "      <th>f97</th>\n",
       "      <th>f98</th>\n",
       "      <th>f99</th>\n",
       "      <th>loss</th>\n",
       "    </tr>\n",
       "  </thead>\n",
       "  <tbody>\n",
       "    <tr>\n",
       "      <th>count</th>\n",
       "      <td>2500.000000</td>\n",
       "      <td>2500.000000</td>\n",
       "      <td>2500.000000</td>\n",
       "      <td>2500.000000</td>\n",
       "      <td>2500.000000</td>\n",
       "      <td>2500.000000</td>\n",
       "      <td>2500.000000</td>\n",
       "      <td>2500.000000</td>\n",
       "      <td>2500.000000</td>\n",
       "      <td>2500.000000</td>\n",
       "      <td>...</td>\n",
       "      <td>2500.000000</td>\n",
       "      <td>2500.000000</td>\n",
       "      <td>2500.000000</td>\n",
       "      <td>2500.000000</td>\n",
       "      <td>2500.000000</td>\n",
       "      <td>2500.000000</td>\n",
       "      <td>2500.000000</td>\n",
       "      <td>2500.000000</td>\n",
       "      <td>2500.000000</td>\n",
       "      <td>2500.000000</td>\n",
       "    </tr>\n",
       "    <tr>\n",
       "      <th>mean</th>\n",
       "      <td>126579.555600</td>\n",
       "      <td>0.521453</td>\n",
       "      <td>52.161600</td>\n",
       "      <td>0.085966</td>\n",
       "      <td>0.058829</td>\n",
       "      <td>3419.413315</td>\n",
       "      <td>8.131364</td>\n",
       "      <td>160.368434</td>\n",
       "      <td>0.382309</td>\n",
       "      <td>15.474679</td>\n",
       "      <td>...</td>\n",
       "      <td>4795.256863</td>\n",
       "      <td>22.420597</td>\n",
       "      <td>2.012658</td>\n",
       "      <td>0.095598</td>\n",
       "      <td>1.502388</td>\n",
       "      <td>2.439185</td>\n",
       "      <td>0.531543</td>\n",
       "      <td>1.573118</td>\n",
       "      <td>7.996887</td>\n",
       "      <td>6.580400</td>\n",
       "    </tr>\n",
       "    <tr>\n",
       "      <th>std</th>\n",
       "      <td>72313.415438</td>\n",
       "      <td>0.305484</td>\n",
       "      <td>42.808641</td>\n",
       "      <td>1.302198</td>\n",
       "      <td>0.806132</td>\n",
       "      <td>5850.392008</td>\n",
       "      <td>5.512764</td>\n",
       "      <td>178.574278</td>\n",
       "      <td>0.813444</td>\n",
       "      <td>99.379327</td>\n",
       "      <td>...</td>\n",
       "      <td>8419.511411</td>\n",
       "      <td>15.035164</td>\n",
       "      <td>0.913562</td>\n",
       "      <td>0.575928</td>\n",
       "      <td>9.142102</td>\n",
       "      <td>0.901719</td>\n",
       "      <td>0.229336</td>\n",
       "      <td>0.643692</td>\n",
       "      <td>5.591727</td>\n",
       "      <td>7.971559</td>\n",
       "    </tr>\n",
       "    <tr>\n",
       "      <th>min</th>\n",
       "      <td>41.000000</td>\n",
       "      <td>-0.059953</td>\n",
       "      <td>-5.000000</td>\n",
       "      <td>-7.492730</td>\n",
       "      <td>-1.451960</td>\n",
       "      <td>-5387.890000</td>\n",
       "      <td>0.131231</td>\n",
       "      <td>-4.734560</td>\n",
       "      <td>-3.674180</td>\n",
       "      <td>-473.851000</td>\n",
       "      <td>...</td>\n",
       "      <td>-8413.350000</td>\n",
       "      <td>-3.290380</td>\n",
       "      <td>0.162648</td>\n",
       "      <td>-1.760990</td>\n",
       "      <td>-22.505600</td>\n",
       "      <td>-0.908054</td>\n",
       "      <td>0.036861</td>\n",
       "      <td>-0.453086</td>\n",
       "      <td>0.131054</td>\n",
       "      <td>0.000000</td>\n",
       "    </tr>\n",
       "    <tr>\n",
       "      <th>25%</th>\n",
       "      <td>63355.000000</td>\n",
       "      <td>0.272154</td>\n",
       "      <td>19.000000</td>\n",
       "      <td>-0.604017</td>\n",
       "      <td>-0.729756</td>\n",
       "      <td>158.258250</td>\n",
       "      <td>4.026930</td>\n",
       "      <td>27.426775</td>\n",
       "      <td>-0.084394</td>\n",
       "      <td>-16.885050</td>\n",
       "      <td>...</td>\n",
       "      <td>79.834800</td>\n",
       "      <td>11.067300</td>\n",
       "      <td>1.461367</td>\n",
       "      <td>-0.400985</td>\n",
       "      <td>-3.847392</td>\n",
       "      <td>1.927817</td>\n",
       "      <td>0.346025</td>\n",
       "      <td>1.215358</td>\n",
       "      <td>3.582670</td>\n",
       "      <td>0.000000</td>\n",
       "    </tr>\n",
       "    <tr>\n",
       "      <th>50%</th>\n",
       "      <td>129219.000000</td>\n",
       "      <td>0.529603</td>\n",
       "      <td>41.000000</td>\n",
       "      <td>0.237091</td>\n",
       "      <td>0.007347</td>\n",
       "      <td>888.097000</td>\n",
       "      <td>7.320570</td>\n",
       "      <td>87.174150</td>\n",
       "      <td>0.633734</td>\n",
       "      <td>9.225590</td>\n",
       "      <td>...</td>\n",
       "      <td>1069.635000</td>\n",
       "      <td>19.538450</td>\n",
       "      <td>1.645585</td>\n",
       "      <td>0.256681</td>\n",
       "      <td>0.743705</td>\n",
       "      <td>2.363025</td>\n",
       "      <td>0.523195</td>\n",
       "      <td>1.452795</td>\n",
       "      <td>7.101720</td>\n",
       "      <td>3.000000</td>\n",
       "    </tr>\n",
       "    <tr>\n",
       "      <th>75%</th>\n",
       "      <td>190131.250000</td>\n",
       "      <td>0.785312</td>\n",
       "      <td>77.000000</td>\n",
       "      <td>0.769558</td>\n",
       "      <td>0.787415</td>\n",
       "      <td>4025.495000</td>\n",
       "      <td>10.982375</td>\n",
       "      <td>237.565250</td>\n",
       "      <td>0.927453</td>\n",
       "      <td>56.045650</td>\n",
       "      <td>...</td>\n",
       "      <td>5606.340000</td>\n",
       "      <td>32.083200</td>\n",
       "      <td>2.239897</td>\n",
       "      <td>0.517823</td>\n",
       "      <td>5.824067</td>\n",
       "      <td>2.939925</td>\n",
       "      <td>0.711336</td>\n",
       "      <td>1.889768</td>\n",
       "      <td>10.972175</td>\n",
       "      <td>10.000000</td>\n",
       "    </tr>\n",
       "    <tr>\n",
       "      <th>max</th>\n",
       "      <td>249923.000000</td>\n",
       "      <td>1.053830</td>\n",
       "      <td>262.000000</td>\n",
       "      <td>9.014810</td>\n",
       "      <td>1.587700</td>\n",
       "      <td>34689.800000</td>\n",
       "      <td>31.312000</td>\n",
       "      <td>898.073000</td>\n",
       "      <td>3.903630</td>\n",
       "      <td>396.940000</td>\n",
       "      <td>...</td>\n",
       "      <td>49205.000000</td>\n",
       "      <td>77.493700</td>\n",
       "      <td>4.971240</td>\n",
       "      <td>1.786750</td>\n",
       "      <td>37.960800</td>\n",
       "      <td>5.309090</td>\n",
       "      <td>1.070980</td>\n",
       "      <td>4.462110</td>\n",
       "      <td>32.941900</td>\n",
       "      <td>38.000000</td>\n",
       "    </tr>\n",
       "  </tbody>\n",
       "</table>\n",
       "<p>8 rows × 102 columns</p>\n",
       "</div>"
      ],
      "text/plain": [
       "                  id           f0           f1           f2           f3  \\\n",
       "count    2500.000000  2500.000000  2500.000000  2500.000000  2500.000000   \n",
       "mean   126579.555600     0.521453    52.161600     0.085966     0.058829   \n",
       "std     72313.415438     0.305484    42.808641     1.302198     0.806132   \n",
       "min        41.000000    -0.059953    -5.000000    -7.492730    -1.451960   \n",
       "25%     63355.000000     0.272154    19.000000    -0.604017    -0.729756   \n",
       "50%    129219.000000     0.529603    41.000000     0.237091     0.007347   \n",
       "75%    190131.250000     0.785312    77.000000     0.769558     0.787415   \n",
       "max    249923.000000     1.053830   262.000000     9.014810     1.587700   \n",
       "\n",
       "                 f4           f5           f6           f7           f8  ...  \\\n",
       "count   2500.000000  2500.000000  2500.000000  2500.000000  2500.000000  ...   \n",
       "mean    3419.413315     8.131364   160.368434     0.382309    15.474679  ...   \n",
       "std     5850.392008     5.512764   178.574278     0.813444    99.379327  ...   \n",
       "min    -5387.890000     0.131231    -4.734560    -3.674180  -473.851000  ...   \n",
       "25%      158.258250     4.026930    27.426775    -0.084394   -16.885050  ...   \n",
       "50%      888.097000     7.320570    87.174150     0.633734     9.225590  ...   \n",
       "75%     4025.495000    10.982375   237.565250     0.927453    56.045650  ...   \n",
       "max    34689.800000    31.312000   898.073000     3.903630   396.940000  ...   \n",
       "\n",
       "                f91          f92          f93          f94          f95  \\\n",
       "count   2500.000000  2500.000000  2500.000000  2500.000000  2500.000000   \n",
       "mean    4795.256863    22.420597     2.012658     0.095598     1.502388   \n",
       "std     8419.511411    15.035164     0.913562     0.575928     9.142102   \n",
       "min    -8413.350000    -3.290380     0.162648    -1.760990   -22.505600   \n",
       "25%       79.834800    11.067300     1.461367    -0.400985    -3.847392   \n",
       "50%     1069.635000    19.538450     1.645585     0.256681     0.743705   \n",
       "75%     5606.340000    32.083200     2.239897     0.517823     5.824067   \n",
       "max    49205.000000    77.493700     4.971240     1.786750    37.960800   \n",
       "\n",
       "               f96          f97          f98          f99         loss  \n",
       "count  2500.000000  2500.000000  2500.000000  2500.000000  2500.000000  \n",
       "mean      2.439185     0.531543     1.573118     7.996887     6.580400  \n",
       "std       0.901719     0.229336     0.643692     5.591727     7.971559  \n",
       "min      -0.908054     0.036861    -0.453086     0.131054     0.000000  \n",
       "25%       1.927817     0.346025     1.215358     3.582670     0.000000  \n",
       "50%       2.363025     0.523195     1.452795     7.101720     3.000000  \n",
       "75%       2.939925     0.711336     1.889768    10.972175    10.000000  \n",
       "max       5.309090     1.070980     4.462110    32.941900    38.000000  \n",
       "\n",
       "[8 rows x 102 columns]"
      ]
     },
     "execution_count": 10,
     "metadata": {},
     "output_type": "execute_result"
    }
   ],
   "source": [
    "train.shape\n",
    "train.info()\n",
    "train.head()\n",
    "train.describe()"
   ]
  },
  {
   "cell_type": "markdown",
   "id": "c6d64039",
   "metadata": {
    "tags": []
   },
   "source": [
    "# Xgboost"
   ]
  },
  {
   "cell_type": "code",
   "execution_count": 7,
   "id": "87fa1be1",
   "metadata": {},
   "outputs": [],
   "source": [
    "from xgboost import XGBRegressor\n",
    "from sklearn.metrics import mean_squared_error\n",
    "from sklearn.model_selection import StratifiedKFold, StratifiedShuffleSplit"
   ]
  },
  {
   "cell_type": "code",
   "execution_count": 8,
   "id": "ecce30cf",
   "metadata": {},
   "outputs": [],
   "source": [
    "params = {'n_estimators':5000,\n",
    "          'learning_rate': 0.02,\n",
    "          'subsample': 0.5,\n",
    "          'colsample_bytree': 0.7,\n",
    "          'max_depth': 6,\n",
    "          'booster': 'gbtree',\n",
    "#          'tree_method': 'gpu_hist', #computer with GPU\n",
    "          'tree_method': 'hist',\n",
    "          'reg_lambda': 60,\n",
    "          'reg_alpha': 60,\n",
    "           'n_jobs': 4}"
   ]
  },
  {
   "cell_type": "code",
   "execution_count": 9,
   "id": "a748704a",
   "metadata": {
    "scrolled": true
   },
   "outputs": [
    {
     "data": {
      "text/plain": [
       "XGBRegressor(base_score=0.5, booster='gbtree', colsample_bylevel=1,\n",
       "             colsample_bynode=1, colsample_bytree=0.7, gamma=0, gpu_id=-1,\n",
       "             importance_type='gain', interaction_constraints='',\n",
       "             learning_rate=0.02, max_delta_step=0, max_depth=6,\n",
       "             min_child_weight=1, missing=nan, monotone_constraints='()',\n",
       "             n_estimators=5000, n_jobs=4, num_parallel_tree=1, random_state=0,\n",
       "             reg_alpha=60, reg_lambda=60, scale_pos_weight=1, subsample=0.5,\n",
       "             tree_method='hist', validate_parameters=1, verbosity=None)"
      ]
     },
     "execution_count": 9,
     "metadata": {},
     "output_type": "execute_result"
    },
    {
     "name": "stdout",
     "output_type": "stream",
     "text": [
      "Fold 0 RMSE: 8.238196956516251\n"
     ]
    },
    {
     "data": {
      "text/plain": [
       "XGBRegressor(base_score=0.5, booster='gbtree', colsample_bylevel=1,\n",
       "             colsample_bynode=1, colsample_bytree=0.7, gamma=0, gpu_id=-1,\n",
       "             importance_type='gain', interaction_constraints='',\n",
       "             learning_rate=0.02, max_delta_step=0, max_depth=6,\n",
       "             min_child_weight=1, missing=nan, monotone_constraints='()',\n",
       "             n_estimators=5000, n_jobs=4, num_parallel_tree=1, random_state=0,\n",
       "             reg_alpha=60, reg_lambda=60, scale_pos_weight=1, subsample=0.5,\n",
       "             tree_method='hist', validate_parameters=1, verbosity=None)"
      ]
     },
     "execution_count": 9,
     "metadata": {},
     "output_type": "execute_result"
    },
    {
     "name": "stdout",
     "output_type": "stream",
     "text": [
      "Fold 1 RMSE: 8.413958174294343\n"
     ]
    },
    {
     "data": {
      "text/plain": [
       "XGBRegressor(base_score=0.5, booster='gbtree', colsample_bylevel=1,\n",
       "             colsample_bynode=1, colsample_bytree=0.7, gamma=0, gpu_id=-1,\n",
       "             importance_type='gain', interaction_constraints='',\n",
       "             learning_rate=0.02, max_delta_step=0, max_depth=6,\n",
       "             min_child_weight=1, missing=nan, monotone_constraints='()',\n",
       "             n_estimators=5000, n_jobs=4, num_parallel_tree=1, random_state=0,\n",
       "             reg_alpha=60, reg_lambda=60, scale_pos_weight=1, subsample=0.5,\n",
       "             tree_method='hist', validate_parameters=1, verbosity=None)"
      ]
     },
     "execution_count": 9,
     "metadata": {},
     "output_type": "execute_result"
    },
    {
     "name": "stdout",
     "output_type": "stream",
     "text": [
      "Fold 2 RMSE: 8.084028781642786\n"
     ]
    },
    {
     "data": {
      "text/plain": [
       "XGBRegressor(base_score=0.5, booster='gbtree', colsample_bylevel=1,\n",
       "             colsample_bynode=1, colsample_bytree=0.7, gamma=0, gpu_id=-1,\n",
       "             importance_type='gain', interaction_constraints='',\n",
       "             learning_rate=0.02, max_delta_step=0, max_depth=6,\n",
       "             min_child_weight=1, missing=nan, monotone_constraints='()',\n",
       "             n_estimators=5000, n_jobs=4, num_parallel_tree=1, random_state=0,\n",
       "             reg_alpha=60, reg_lambda=60, scale_pos_weight=1, subsample=0.5,\n",
       "             tree_method='hist', validate_parameters=1, verbosity=None)"
      ]
     },
     "execution_count": 9,
     "metadata": {},
     "output_type": "execute_result"
    },
    {
     "name": "stdout",
     "output_type": "stream",
     "text": [
      "Fold 3 RMSE: 8.386759306326443\n"
     ]
    },
    {
     "data": {
      "text/plain": [
       "XGBRegressor(base_score=0.5, booster='gbtree', colsample_bylevel=1,\n",
       "             colsample_bynode=1, colsample_bytree=0.7, gamma=0, gpu_id=-1,\n",
       "             importance_type='gain', interaction_constraints='',\n",
       "             learning_rate=0.02, max_delta_step=0, max_depth=6,\n",
       "             min_child_weight=1, missing=nan, monotone_constraints='()',\n",
       "             n_estimators=5000, n_jobs=4, num_parallel_tree=1, random_state=0,\n",
       "             reg_alpha=60, reg_lambda=60, scale_pos_weight=1, subsample=0.5,\n",
       "             tree_method='hist', validate_parameters=1, verbosity=None)"
      ]
     },
     "execution_count": 9,
     "metadata": {},
     "output_type": "execute_result"
    },
    {
     "name": "stdout",
     "output_type": "stream",
     "text": [
      "Fold 4 RMSE: 8.285281214774301\n"
     ]
    },
    {
     "data": {
      "text/plain": [
       "XGBRegressor(base_score=0.5, booster='gbtree', colsample_bylevel=1,\n",
       "             colsample_bynode=1, colsample_bytree=0.7, gamma=0, gpu_id=-1,\n",
       "             importance_type='gain', interaction_constraints='',\n",
       "             learning_rate=0.02, max_delta_step=0, max_depth=6,\n",
       "             min_child_weight=1, missing=nan, monotone_constraints='()',\n",
       "             n_estimators=5000, n_jobs=4, num_parallel_tree=1, random_state=0,\n",
       "             reg_alpha=60, reg_lambda=60, scale_pos_weight=1, subsample=0.5,\n",
       "             tree_method='hist', validate_parameters=1, verbosity=None)"
      ]
     },
     "execution_count": 9,
     "metadata": {},
     "output_type": "execute_result"
    },
    {
     "name": "stdout",
     "output_type": "stream",
     "text": [
      "Fold 5 RMSE: 8.107756892312556\n"
     ]
    },
    {
     "data": {
      "text/plain": [
       "XGBRegressor(base_score=0.5, booster='gbtree', colsample_bylevel=1,\n",
       "             colsample_bynode=1, colsample_bytree=0.7, gamma=0, gpu_id=-1,\n",
       "             importance_type='gain', interaction_constraints='',\n",
       "             learning_rate=0.02, max_delta_step=0, max_depth=6,\n",
       "             min_child_weight=1, missing=nan, monotone_constraints='()',\n",
       "             n_estimators=5000, n_jobs=4, num_parallel_tree=1, random_state=0,\n",
       "             reg_alpha=60, reg_lambda=60, scale_pos_weight=1, subsample=0.5,\n",
       "             tree_method='hist', validate_parameters=1, verbosity=None)"
      ]
     },
     "execution_count": 9,
     "metadata": {},
     "output_type": "execute_result"
    },
    {
     "name": "stdout",
     "output_type": "stream",
     "text": [
      "Fold 6 RMSE: 8.22812976855896\n"
     ]
    },
    {
     "data": {
      "text/plain": [
       "XGBRegressor(base_score=0.5, booster='gbtree', colsample_bylevel=1,\n",
       "             colsample_bynode=1, colsample_bytree=0.7, gamma=0, gpu_id=-1,\n",
       "             importance_type='gain', interaction_constraints='',\n",
       "             learning_rate=0.02, max_delta_step=0, max_depth=6,\n",
       "             min_child_weight=1, missing=nan, monotone_constraints='()',\n",
       "             n_estimators=5000, n_jobs=4, num_parallel_tree=1, random_state=0,\n",
       "             reg_alpha=60, reg_lambda=60, scale_pos_weight=1, subsample=0.5,\n",
       "             tree_method='hist', validate_parameters=1, verbosity=None)"
      ]
     },
     "execution_count": 9,
     "metadata": {},
     "output_type": "execute_result"
    },
    {
     "name": "stdout",
     "output_type": "stream",
     "text": [
      "Fold 7 RMSE: 8.388569049831606\n"
     ]
    },
    {
     "data": {
      "text/plain": [
       "XGBRegressor(base_score=0.5, booster='gbtree', colsample_bylevel=1,\n",
       "             colsample_bynode=1, colsample_bytree=0.7, gamma=0, gpu_id=-1,\n",
       "             importance_type='gain', interaction_constraints='',\n",
       "             learning_rate=0.02, max_delta_step=0, max_depth=6,\n",
       "             min_child_weight=1, missing=nan, monotone_constraints='()',\n",
       "             n_estimators=5000, n_jobs=4, num_parallel_tree=1, random_state=0,\n",
       "             reg_alpha=60, reg_lambda=60, scale_pos_weight=1, subsample=0.5,\n",
       "             tree_method='hist', validate_parameters=1, verbosity=None)"
      ]
     },
     "execution_count": 9,
     "metadata": {},
     "output_type": "execute_result"
    },
    {
     "name": "stdout",
     "output_type": "stream",
     "text": [
      "Fold 8 RMSE: 8.040171511454382\n"
     ]
    },
    {
     "data": {
      "text/plain": [
       "XGBRegressor(base_score=0.5, booster='gbtree', colsample_bylevel=1,\n",
       "             colsample_bynode=1, colsample_bytree=0.7, gamma=0, gpu_id=-1,\n",
       "             importance_type='gain', interaction_constraints='',\n",
       "             learning_rate=0.02, max_delta_step=0, max_depth=6,\n",
       "             min_child_weight=1, missing=nan, monotone_constraints='()',\n",
       "             n_estimators=5000, n_jobs=4, num_parallel_tree=1, random_state=0,\n",
       "             reg_alpha=60, reg_lambda=60, scale_pos_weight=1, subsample=0.5,\n",
       "             tree_method='hist', validate_parameters=1, verbosity=None)"
      ]
     },
     "execution_count": 9,
     "metadata": {},
     "output_type": "execute_result"
    },
    {
     "name": "stdout",
     "output_type": "stream",
     "text": [
      "Fold 9 RMSE: 8.026357516026888\n"
     ]
    },
    {
     "data": {
      "text/plain": [
       "XGBRegressor(base_score=0.5, booster='gbtree', colsample_bylevel=1,\n",
       "             colsample_bynode=1, colsample_bytree=0.7, gamma=0, gpu_id=-1,\n",
       "             importance_type='gain', interaction_constraints='',\n",
       "             learning_rate=0.02, max_delta_step=0, max_depth=6,\n",
       "             min_child_weight=1, missing=nan, monotone_constraints='()',\n",
       "             n_estimators=5000, n_jobs=4, num_parallel_tree=1, random_state=0,\n",
       "             reg_alpha=60, reg_lambda=60, scale_pos_weight=1, subsample=0.5,\n",
       "             tree_method='hist', validate_parameters=1, verbosity=None)"
      ]
     },
     "execution_count": 9,
     "metadata": {},
     "output_type": "execute_result"
    },
    {
     "name": "stdout",
     "output_type": "stream",
     "text": [
      "Fold 10 RMSE: 8.170313943206805\n"
     ]
    },
    {
     "data": {
      "text/plain": [
       "XGBRegressor(base_score=0.5, booster='gbtree', colsample_bylevel=1,\n",
       "             colsample_bynode=1, colsample_bytree=0.7, gamma=0, gpu_id=-1,\n",
       "             importance_type='gain', interaction_constraints='',\n",
       "             learning_rate=0.02, max_delta_step=0, max_depth=6,\n",
       "             min_child_weight=1, missing=nan, monotone_constraints='()',\n",
       "             n_estimators=5000, n_jobs=4, num_parallel_tree=1, random_state=0,\n",
       "             reg_alpha=60, reg_lambda=60, scale_pos_weight=1, subsample=0.5,\n",
       "             tree_method='hist', validate_parameters=1, verbosity=None)"
      ]
     },
     "execution_count": 9,
     "metadata": {},
     "output_type": "execute_result"
    },
    {
     "name": "stdout",
     "output_type": "stream",
     "text": [
      "Fold 11 RMSE: 8.263423666542792\n"
     ]
    }
   ],
   "source": [
    "splits = 12\n",
    "stf = StratifiedKFold(n_splits=splits, shuffle=True)\n",
    "oof= np.zeros((X.shape[0],))\n",
    "prediction = 0\n",
    "model_fi = 0\n",
    "total_mean_rmse = 0\n",
    "\n",
    "for num, (train_id, valid_id) in enumerate(stf.split(X, y)):\n",
    "    X_train, X_valid = X.loc[train_id], X.loc[valid_id]\n",
    "    y_train, y_valid = y.loc[train_id], y.loc[valid_id]\n",
    "    \n",
    "    model = XGBRegressor(**params)\n",
    "    model.fit(X_train, y_train,\n",
    "              eval_set=[(X_train, y_train), (X_valid, y_valid)],\n",
    "              eval_metric=\"rmse\",verbose=0)\n",
    "    \n",
    "    prediction += model.predict(test) / splits\n",
    "    oof[valid_id] = model.predict(X_valid)\n",
    "    oof[oof < 0] = 0\n",
    "\n",
    "    fold_rmse = np.sqrt(mean_squared_error(y_valid, oof[valid_id]))\n",
    "    print(f\"Fold {num} RMSE: {fold_rmse}\")"
   ]
  },
  {
   "cell_type": "code",
   "execution_count": 10,
   "id": "fdfdeb85",
   "metadata": {
    "tags": []
   },
   "outputs": [
    {
     "data": {
      "text/plain": [
       "array([0.00884527, 0.01007464, 0.00925265, 0.00955729, 0.01093287,\n",
       "       0.0110935 , 0.00944508, 0.01059669, 0.0112201 , 0.01066267,\n",
       "       0.00990177, 0.00933696, 0.00916474, 0.00947918, 0.00977434,\n",
       "       0.00978735, 0.00903223, 0.01031093, 0.01001647, 0.01005229,\n",
       "       0.00883139, 0.01063564, 0.00927207, 0.01033503, 0.00950968,\n",
       "       0.01093784, 0.00913269, 0.01024516, 0.0097222 , 0.0101374 ,\n",
       "       0.01011799, 0.01040216, 0.01092633, 0.00979137, 0.00963676,\n",
       "       0.01023974, 0.01058685, 0.00872958, 0.01066628, 0.01084831,\n",
       "       0.01005271, 0.01138068, 0.00915878, 0.00973155, 0.01050482,\n",
       "       0.00861244, 0.01127172, 0.01082947, 0.01026849, 0.00947317,\n",
       "       0.010302  , 0.00989174, 0.01139243, 0.01058205, 0.00916382,\n",
       "       0.0095823 , 0.00986346, 0.00996186, 0.00935849, 0.00921139,\n",
       "       0.01057919, 0.00999042, 0.00906935, 0.00991227, 0.00969541,\n",
       "       0.01105355, 0.00990789, 0.00923144, 0.01069102, 0.01118085,\n",
       "       0.00995666, 0.00963375, 0.01100758, 0.01028461, 0.0114425 ,\n",
       "       0.01001161, 0.0096686 , 0.00971813, 0.00929287, 0.01138817,\n",
       "       0.00963442, 0.01008156, 0.00935915, 0.01008813, 0.00994439,\n",
       "       0.00893713, 0.01097328, 0.01013957, 0.0107501 , 0.01101556,\n",
       "       0.00934799, 0.00905948, 0.00892149, 0.01019977, 0.00949477,\n",
       "       0.01144145, 0.00985356, 0.00879939, 0.00906544, 0.0093427 ],\n",
       "      dtype=float32)"
      ]
     },
     "execution_count": 10,
     "metadata": {},
     "output_type": "execute_result"
    }
   ],
   "source": [
    "model.feature_importances_"
   ]
  },
  {
   "cell_type": "markdown",
   "id": "1a48d1ae",
   "metadata": {
    "tags": []
   },
   "source": [
    "## Tune with optuna"
   ]
  },
  {
   "cell_type": "code",
   "execution_count": 39,
   "id": "d4b99d04",
   "metadata": {},
   "outputs": [],
   "source": [
    "from sklearn.model_selection import train_test_split\n",
    "from sklearn.metrics import mean_squared_error"
   ]
  },
  {
   "cell_type": "code",
   "execution_count": 59,
   "id": "1ca13406",
   "metadata": {},
   "outputs": [
    {
     "ename": "IndentationError",
     "evalue": "unexpected indent (<ipython-input-59-479e8e113975>, line 26)",
     "output_type": "error",
     "traceback": [
      "\u001b[1;36m  File \u001b[1;32m\"<ipython-input-59-479e8e113975>\"\u001b[1;36m, line \u001b[1;32m26\u001b[0m\n\u001b[1;33m    train_x, test_x, train_y, test_y = train_test_split(data, target, test_size=0.15,random_state=42)\u001b[0m\n\u001b[1;37m    ^\u001b[0m\n\u001b[1;31mIndentationError\u001b[0m\u001b[1;31m:\u001b[0m unexpected indent\n"
     ]
    }
   ],
   "source": [
    "def objective(trial, data =X, target =y):\n",
    "    \n",
    "    param = {\n",
    "            'n_estimators': trial.suggest_int('n_estimators', low =400, high =4000, step =400),    \n",
    "            'max_depth': trial.suggest_int('max_depth', 6, 12),\n",
    "            'learning_rate': trial.suggest_float('learning_rate ', low =0.007, high =0.02),\n",
    "            'min_child_weight': trial.suggest_int('min_child_weight', 5, 20),\n",
    "            'subsample': trial.suggest_discrete_uniform('subsample', 0.5, 0.9, 0.1),\n",
    "            'colsample_bytree': trial.suggest_discrete_uniform('colsample_bytree', 0.5, 0.9, 0.1),\n",
    "            'reg_alpha': trial.suggest_int('reg_alpha', 0, 50),\n",
    "            'reg_lambda': trial.suggest_int('reg_lambda', 1, 50),\n",
    "            'n_jobs': 4,\n",
    "#            'tree_method': 'gpu_hist', #only use with GPU\n",
    "#            'predictor': 'gpu_predictor', #only use with GPU\n",
    "            'tree_method': 'hist',\n",
    "        }\n",
    "\n",
    "# Use cross_val_score for cross validation\n",
    "#    splits = 12\n",
    "#    stf = StratifiedKFold(n_splits=splits, shuffle=True)\n",
    "#    model = XGBRegressor(**param)\n",
    "#    mse = cross_val_score(model, X, y, cv= stf, scoring =\"neg_root_mean_squared_error\")\n",
    "#    return mse.mean()    \n",
    "\n",
    "\n",
    "    train_x, test_x, train_y, test_y = train_test_split(data, target, test_size=0.15,random_state=42)\n",
    "\n",
    "    model = xgb.XGBRegressor(**param)   \n",
    "    model.fit(train_x, train_y, eval_set=[(test_x, test_y)],\n",
    "              early_stopping_rounds=100, verbose=False)\n",
    "    \n",
    "    preds = model.predict(test_x)\n",
    "    rmse = mean_squared_error(test_y, preds,squared=False)\n",
    "    return rmse"
   ]
  },
  {
   "cell_type": "code",
   "execution_count": 58,
   "id": "6f6e9d76",
   "metadata": {
    "scrolled": true
   },
   "outputs": [
    {
     "name": "stderr",
     "output_type": "stream",
     "text": [
      "\u001b[32m[I 2021-08-21 14:34:13,919]\u001b[0m A new study created in memory with name: no-name-bd6babff-99b0-4a11-b8b7-a3accb9ba1db\u001b[0m\n",
      "\u001b[32m[I 2021-08-21 14:34:25,995]\u001b[0m Trial 0 finished with value: 7.571627228120726 and parameters: {'n_estimators': 400, 'max_depth': 12, 'learning_rate ': 0.016188153878399867, 'min_child_weight': 11, 'subsample': 0.9, 'colsample_bytree': 0.6, 'reg_alpha': 24, 'reg_lambda': 36}. Best is trial 0 with value: 7.571627228120726.\u001b[0m\n",
      "\u001b[32m[I 2021-08-21 14:34:31,165]\u001b[0m Trial 1 finished with value: 7.564092100896768 and parameters: {'n_estimators': 3200, 'max_depth': 8, 'learning_rate ': 0.018939976407824872, 'min_child_weight': 19, 'subsample': 0.8, 'colsample_bytree': 0.7, 'reg_alpha': 4, 'reg_lambda': 10}. Best is trial 1 with value: 7.564092100896768.\u001b[0m\n",
      "\u001b[32m[I 2021-08-21 14:34:42,290]\u001b[0m Trial 2 finished with value: 7.584542123686795 and parameters: {'n_estimators': 3200, 'max_depth': 10, 'learning_rate ': 0.01925638557588044, 'min_child_weight': 5, 'subsample': 0.7, 'colsample_bytree': 0.5, 'reg_alpha': 17, 'reg_lambda': 21}. Best is trial 1 with value: 7.564092100896768.\u001b[0m\n",
      "\u001b[32m[I 2021-08-21 14:34:49,212]\u001b[0m Trial 3 finished with value: 7.570354627086972 and parameters: {'n_estimators': 800, 'max_depth': 7, 'learning_rate ': 0.012028733754286102, 'min_child_weight': 15, 'subsample': 0.9, 'colsample_bytree': 0.7, 'reg_alpha': 49, 'reg_lambda': 9}. Best is trial 1 with value: 7.564092100896768.\u001b[0m\n",
      "\u001b[32m[I 2021-08-21 14:34:55,515]\u001b[0m Trial 4 finished with value: 7.591318144598207 and parameters: {'n_estimators': 2800, 'max_depth': 12, 'learning_rate ': 0.014729593114892234, 'min_child_weight': 20, 'subsample': 0.5, 'colsample_bytree': 0.6, 'reg_alpha': 15, 'reg_lambda': 14}. Best is trial 1 with value: 7.564092100896768.\u001b[0m\n",
      "\u001b[32m[I 2021-08-21 14:34:59,115]\u001b[0m Trial 5 finished with value: 7.568672897269493 and parameters: {'n_estimators': 2000, 'max_depth': 7, 'learning_rate ': 0.016053207839286564, 'min_child_weight': 18, 'subsample': 0.5, 'colsample_bytree': 0.6, 'reg_alpha': 10, 'reg_lambda': 37}. Best is trial 1 with value: 7.564092100896768.\u001b[0m\n",
      "\u001b[32m[I 2021-08-21 14:35:06,451]\u001b[0m Trial 6 finished with value: 7.538368515829756 and parameters: {'n_estimators': 1200, 'max_depth': 6, 'learning_rate ': 0.00826314997036773, 'min_child_weight': 15, 'subsample': 0.7, 'colsample_bytree': 0.5, 'reg_alpha': 20, 'reg_lambda': 47}. Best is trial 6 with value: 7.538368515829756.\u001b[0m\n",
      "\u001b[32m[I 2021-08-21 14:35:15,534]\u001b[0m Trial 7 finished with value: 7.567229158140258 and parameters: {'n_estimators': 3600, 'max_depth': 7, 'learning_rate ': 0.014894059427746364, 'min_child_weight': 7, 'subsample': 0.8, 'colsample_bytree': 0.8, 'reg_alpha': 3, 'reg_lambda': 27}. Best is trial 6 with value: 7.538368515829756.\u001b[0m\n",
      "\u001b[32m[I 2021-08-21 14:35:24,070]\u001b[0m Trial 8 finished with value: 7.5608244750474 and parameters: {'n_estimators': 2000, 'max_depth': 12, 'learning_rate ': 0.015611539405818886, 'min_child_weight': 15, 'subsample': 0.8, 'colsample_bytree': 0.6, 'reg_alpha': 30, 'reg_lambda': 37}. Best is trial 6 with value: 7.538368515829756.\u001b[0m\n",
      "\u001b[32m[I 2021-08-21 14:35:35,851]\u001b[0m Trial 9 finished with value: 7.555024805820641 and parameters: {'n_estimators': 3600, 'max_depth': 8, 'learning_rate ': 0.01654954849811811, 'min_child_weight': 7, 'subsample': 0.6, 'colsample_bytree': 0.8, 'reg_alpha': 14, 'reg_lambda': 20}. Best is trial 6 with value: 7.538368515829756.\u001b[0m\n",
      "\u001b[32m[I 2021-08-21 14:35:43,903]\u001b[0m Trial 10 finished with value: 7.549368250634555 and parameters: {'n_estimators': 1200, 'max_depth': 6, 'learning_rate ': 0.007118133190843708, 'min_child_weight': 12, 'subsample': 0.6, 'colsample_bytree': 0.9, 'reg_alpha': 36, 'reg_lambda': 50}. Best is trial 6 with value: 7.538368515829756.\u001b[0m\n",
      "\u001b[32m[I 2021-08-21 14:35:51,711]\u001b[0m Trial 11 finished with value: 7.550590355057467 and parameters: {'n_estimators': 1600, 'max_depth': 6, 'learning_rate ': 0.007104671039481178, 'min_child_weight': 12, 'subsample': 0.6, 'colsample_bytree': 0.9, 'reg_alpha': 37, 'reg_lambda': 50}. Best is trial 6 with value: 7.538368515829756.\u001b[0m\n",
      "\u001b[32m[I 2021-08-21 14:36:00,118]\u001b[0m Trial 12 finished with value: 7.550156829118903 and parameters: {'n_estimators': 1200, 'max_depth': 6, 'learning_rate ': 0.007546939187427109, 'min_child_weight': 15, 'subsample': 0.6, 'colsample_bytree': 0.9, 'reg_alpha': 41, 'reg_lambda': 50}. Best is trial 6 with value: 7.538368515829756.\u001b[0m\n",
      "\u001b[32m[I 2021-08-21 14:36:12,398]\u001b[0m Trial 13 finished with value: 7.534778312711176 and parameters: {'n_estimators': 1200, 'max_depth': 9, 'learning_rate ': 0.010040184657162344, 'min_child_weight': 11, 'subsample': 0.7, 'colsample_bytree': 0.5, 'reg_alpha': 27, 'reg_lambda': 44}. Best is trial 13 with value: 7.534778312711176.\u001b[0m\n",
      "\u001b[32m[I 2021-08-21 14:36:29,466]\u001b[0m Trial 14 finished with value: 7.538083125439151 and parameters: {'n_estimators': 800, 'max_depth': 10, 'learning_rate ': 0.010048070904863678, 'min_child_weight': 9, 'subsample': 0.7, 'colsample_bytree': 0.5, 'reg_alpha': 22, 'reg_lambda': 42}. Best is trial 13 with value: 7.534778312711176.\u001b[0m\n",
      "\u001b[32m[I 2021-08-21 14:36:40,032]\u001b[0m Trial 15 finished with value: 7.579270288182609 and parameters: {'n_estimators': 400, 'max_depth': 10, 'learning_rate ': 0.010376842929594388, 'min_child_weight': 9, 'subsample': 0.7, 'colsample_bytree': 0.5, 'reg_alpha': 28, 'reg_lambda': 1}. Best is trial 13 with value: 7.534778312711176.\u001b[0m\n",
      "\u001b[32m[I 2021-08-21 14:36:50,568]\u001b[0m Trial 16 finished with value: 7.54867931893608 and parameters: {'n_estimators': 2400, 'max_depth': 10, 'learning_rate ': 0.009963864949139131, 'min_child_weight': 10, 'subsample': 0.8, 'colsample_bytree': 0.5, 'reg_alpha': 31, 'reg_lambda': 42}. Best is trial 13 with value: 7.534778312711176.\u001b[0m\n",
      "\u001b[32m[I 2021-08-21 14:37:00,066]\u001b[0m Trial 17 finished with value: 7.5580438820699625 and parameters: {'n_estimators': 800, 'max_depth': 9, 'learning_rate ': 0.01152819471290784, 'min_child_weight': 8, 'subsample': 0.7, 'colsample_bytree': 0.5, 'reg_alpha': 23, 'reg_lambda': 33}. Best is trial 13 with value: 7.534778312711176.\u001b[0m\n",
      "\u001b[32m[I 2021-08-21 14:37:29,058]\u001b[0m Trial 18 finished with value: 7.5450790016795475 and parameters: {'n_estimators': 1600, 'max_depth': 11, 'learning_rate ': 0.009328362278248858, 'min_child_weight': 5, 'subsample': 0.8, 'colsample_bytree': 0.6, 'reg_alpha': 45, 'reg_lambda': 43}. Best is trial 13 with value: 7.534778312711176.\u001b[0m\n",
      "\u001b[32m[I 2021-08-21 14:37:42,798]\u001b[0m Trial 19 finished with value: 7.529318871463241 and parameters: {'n_estimators': 800, 'max_depth': 9, 'learning_rate ': 0.012901671423280537, 'min_child_weight': 10, 'subsample': 0.6, 'colsample_bytree': 0.7, 'reg_alpha': 10, 'reg_lambda': 30}. Best is trial 19 with value: 7.529318871463241.\u001b[0m\n",
      "\u001b[32m[I 2021-08-21 14:37:54,091]\u001b[0m Trial 20 finished with value: 7.5408713718949185 and parameters: {'n_estimators': 1600, 'max_depth': 9, 'learning_rate ': 0.013034230607975619, 'min_child_weight': 14, 'subsample': 0.5, 'colsample_bytree': 0.8, 'reg_alpha': 8, 'reg_lambda': 27}. Best is trial 19 with value: 7.529318871463241.\u001b[0m\n",
      "\u001b[32m[I 2021-08-21 14:38:03,802]\u001b[0m Trial 21 finished with value: 7.555083643483953 and parameters: {'n_estimators': 800, 'max_depth': 9, 'learning_rate ': 0.01110482278559247, 'min_child_weight': 10, 'subsample': 0.6, 'colsample_bytree': 0.7, 'reg_alpha': 19, 'reg_lambda': 31}. Best is trial 19 with value: 7.529318871463241.\u001b[0m\n",
      "\u001b[32m[I 2021-08-21 14:38:12,872]\u001b[0m Trial 22 finished with value: 7.549338129333557 and parameters: {'n_estimators': 400, 'max_depth': 11, 'learning_rate ': 0.013147853499232674, 'min_child_weight': 13, 'subsample': 0.7, 'colsample_bytree': 0.5, 'reg_alpha': 0, 'reg_lambda': 43}. Best is trial 19 with value: 7.529318871463241.\u001b[0m\n"
     ]
    },
    {
     "ename": "KeyboardInterrupt",
     "evalue": "",
     "output_type": "error",
     "traceback": [
      "\u001b[1;31m---------------------------------------------------------------------------\u001b[0m",
      "\u001b[1;31mKeyboardInterrupt\u001b[0m                         Traceback (most recent call last)",
      "\u001b[1;32m<ipython-input-58-a1dabc8f29ea>\u001b[0m in \u001b[0;36m<module>\u001b[1;34m\u001b[0m\n\u001b[0;32m      1\u001b[0m \u001b[0mstudy\u001b[0m \u001b[1;33m=\u001b[0m \u001b[0moptuna\u001b[0m\u001b[1;33m.\u001b[0m\u001b[0mcreate_study\u001b[0m\u001b[1;33m(\u001b[0m\u001b[0mdirection\u001b[0m\u001b[1;33m=\u001b[0m\u001b[1;34m'minimize'\u001b[0m\u001b[1;33m)\u001b[0m\u001b[1;33m\u001b[0m\u001b[1;33m\u001b[0m\u001b[0m\n\u001b[1;32m----> 2\u001b[1;33m \u001b[0mstudy\u001b[0m\u001b[1;33m.\u001b[0m\u001b[0moptimize\u001b[0m\u001b[1;33m(\u001b[0m\u001b[0mobjective\u001b[0m\u001b[1;33m,\u001b[0m \u001b[0mn_trials\u001b[0m\u001b[1;33m=\u001b[0m\u001b[1;36m50\u001b[0m\u001b[1;33m)\u001b[0m\u001b[1;33m\u001b[0m\u001b[1;33m\u001b[0m\u001b[0m\n\u001b[0m\u001b[0;32m      3\u001b[0m \u001b[0mprint\u001b[0m\u001b[1;33m(\u001b[0m\u001b[1;34m'Number of finished trials:'\u001b[0m\u001b[1;33m,\u001b[0m \u001b[0mlen\u001b[0m\u001b[1;33m(\u001b[0m\u001b[0mstudy\u001b[0m\u001b[1;33m.\u001b[0m\u001b[0mtrials\u001b[0m\u001b[1;33m)\u001b[0m\u001b[1;33m)\u001b[0m\u001b[1;33m\u001b[0m\u001b[1;33m\u001b[0m\u001b[0m\n\u001b[0;32m      4\u001b[0m \u001b[0mprint\u001b[0m\u001b[1;33m(\u001b[0m\u001b[1;34m'Best trial:'\u001b[0m\u001b[1;33m,\u001b[0m \u001b[0mstudy\u001b[0m\u001b[1;33m.\u001b[0m\u001b[0mbest_trial\u001b[0m\u001b[1;33m.\u001b[0m\u001b[0mparams\u001b[0m\u001b[1;33m)\u001b[0m\u001b[1;33m\u001b[0m\u001b[1;33m\u001b[0m\u001b[0m\n",
      "\u001b[1;32m~\\anaconda3\\lib\\site-packages\\optuna\\study\\study.py\u001b[0m in \u001b[0;36moptimize\u001b[1;34m(self, func, n_trials, timeout, n_jobs, catch, callbacks, gc_after_trial, show_progress_bar)\u001b[0m\n\u001b[0;32m    398\u001b[0m             )\n\u001b[0;32m    399\u001b[0m \u001b[1;33m\u001b[0m\u001b[0m\n\u001b[1;32m--> 400\u001b[1;33m         _optimize(\n\u001b[0m\u001b[0;32m    401\u001b[0m             \u001b[0mstudy\u001b[0m\u001b[1;33m=\u001b[0m\u001b[0mself\u001b[0m\u001b[1;33m,\u001b[0m\u001b[1;33m\u001b[0m\u001b[1;33m\u001b[0m\u001b[0m\n\u001b[0;32m    402\u001b[0m             \u001b[0mfunc\u001b[0m\u001b[1;33m=\u001b[0m\u001b[0mfunc\u001b[0m\u001b[1;33m,\u001b[0m\u001b[1;33m\u001b[0m\u001b[1;33m\u001b[0m\u001b[0m\n",
      "\u001b[1;32m~\\anaconda3\\lib\\site-packages\\optuna\\study\\_optimize.py\u001b[0m in \u001b[0;36m_optimize\u001b[1;34m(study, func, n_trials, timeout, n_jobs, catch, callbacks, gc_after_trial, show_progress_bar)\u001b[0m\n\u001b[0;32m     64\u001b[0m     \u001b[1;32mtry\u001b[0m\u001b[1;33m:\u001b[0m\u001b[1;33m\u001b[0m\u001b[1;33m\u001b[0m\u001b[0m\n\u001b[0;32m     65\u001b[0m         \u001b[1;32mif\u001b[0m \u001b[0mn_jobs\u001b[0m \u001b[1;33m==\u001b[0m \u001b[1;36m1\u001b[0m\u001b[1;33m:\u001b[0m\u001b[1;33m\u001b[0m\u001b[1;33m\u001b[0m\u001b[0m\n\u001b[1;32m---> 66\u001b[1;33m             _optimize_sequential(\n\u001b[0m\u001b[0;32m     67\u001b[0m                 \u001b[0mstudy\u001b[0m\u001b[1;33m,\u001b[0m\u001b[1;33m\u001b[0m\u001b[1;33m\u001b[0m\u001b[0m\n\u001b[0;32m     68\u001b[0m                 \u001b[0mfunc\u001b[0m\u001b[1;33m,\u001b[0m\u001b[1;33m\u001b[0m\u001b[1;33m\u001b[0m\u001b[0m\n",
      "\u001b[1;32m~\\anaconda3\\lib\\site-packages\\optuna\\study\\_optimize.py\u001b[0m in \u001b[0;36m_optimize_sequential\u001b[1;34m(study, func, n_trials, timeout, catch, callbacks, gc_after_trial, reseed_sampler_rng, time_start, progress_bar)\u001b[0m\n\u001b[0;32m    161\u001b[0m \u001b[1;33m\u001b[0m\u001b[0m\n\u001b[0;32m    162\u001b[0m         \u001b[1;32mtry\u001b[0m\u001b[1;33m:\u001b[0m\u001b[1;33m\u001b[0m\u001b[1;33m\u001b[0m\u001b[0m\n\u001b[1;32m--> 163\u001b[1;33m             \u001b[0mtrial\u001b[0m \u001b[1;33m=\u001b[0m \u001b[0m_run_trial\u001b[0m\u001b[1;33m(\u001b[0m\u001b[0mstudy\u001b[0m\u001b[1;33m,\u001b[0m \u001b[0mfunc\u001b[0m\u001b[1;33m,\u001b[0m \u001b[0mcatch\u001b[0m\u001b[1;33m)\u001b[0m\u001b[1;33m\u001b[0m\u001b[1;33m\u001b[0m\u001b[0m\n\u001b[0m\u001b[0;32m    164\u001b[0m         \u001b[1;32mexcept\u001b[0m \u001b[0mException\u001b[0m\u001b[1;33m:\u001b[0m\u001b[1;33m\u001b[0m\u001b[1;33m\u001b[0m\u001b[0m\n\u001b[0;32m    165\u001b[0m             \u001b[1;32mraise\u001b[0m\u001b[1;33m\u001b[0m\u001b[1;33m\u001b[0m\u001b[0m\n",
      "\u001b[1;32m~\\anaconda3\\lib\\site-packages\\optuna\\study\\_optimize.py\u001b[0m in \u001b[0;36m_run_trial\u001b[1;34m(study, func, catch)\u001b[0m\n\u001b[0;32m    211\u001b[0m \u001b[1;33m\u001b[0m\u001b[0m\n\u001b[0;32m    212\u001b[0m     \u001b[1;32mtry\u001b[0m\u001b[1;33m:\u001b[0m\u001b[1;33m\u001b[0m\u001b[1;33m\u001b[0m\u001b[0m\n\u001b[1;32m--> 213\u001b[1;33m         \u001b[0mvalue_or_values\u001b[0m \u001b[1;33m=\u001b[0m \u001b[0mfunc\u001b[0m\u001b[1;33m(\u001b[0m\u001b[0mtrial\u001b[0m\u001b[1;33m)\u001b[0m\u001b[1;33m\u001b[0m\u001b[1;33m\u001b[0m\u001b[0m\n\u001b[0m\u001b[0;32m    214\u001b[0m     \u001b[1;32mexcept\u001b[0m \u001b[0mexceptions\u001b[0m\u001b[1;33m.\u001b[0m\u001b[0mTrialPruned\u001b[0m \u001b[1;32mas\u001b[0m \u001b[0me\u001b[0m\u001b[1;33m:\u001b[0m\u001b[1;33m\u001b[0m\u001b[1;33m\u001b[0m\u001b[0m\n\u001b[0;32m    215\u001b[0m         \u001b[1;31m# TODO(mamu): Handle multi-objective cases.\u001b[0m\u001b[1;33m\u001b[0m\u001b[1;33m\u001b[0m\u001b[1;33m\u001b[0m\u001b[0m\n",
      "\u001b[1;32m<ipython-input-57-28d34fe848b6>\u001b[0m in \u001b[0;36mobjective\u001b[1;34m(trial, data, target)\u001b[0m\n\u001b[0;32m     19\u001b[0m \u001b[1;33m\u001b[0m\u001b[0m\n\u001b[0;32m     20\u001b[0m     \u001b[0mmodel\u001b[0m \u001b[1;33m=\u001b[0m \u001b[0mxgb\u001b[0m\u001b[1;33m.\u001b[0m\u001b[0mXGBRegressor\u001b[0m\u001b[1;33m(\u001b[0m\u001b[1;33m**\u001b[0m\u001b[0mparam\u001b[0m\u001b[1;33m)\u001b[0m\u001b[1;33m\u001b[0m\u001b[1;33m\u001b[0m\u001b[0m\n\u001b[1;32m---> 21\u001b[1;33m     model.fit(train_x,train_y,\n\u001b[0m\u001b[0;32m     22\u001b[0m               \u001b[0meval_set\u001b[0m\u001b[1;33m=\u001b[0m\u001b[1;33m[\u001b[0m\u001b[1;33m(\u001b[0m\u001b[0mtest_x\u001b[0m\u001b[1;33m,\u001b[0m\u001b[0mtest_y\u001b[0m\u001b[1;33m)\u001b[0m\u001b[1;33m]\u001b[0m\u001b[1;33m,\u001b[0m\u001b[1;33m\u001b[0m\u001b[1;33m\u001b[0m\u001b[0m\n\u001b[0;32m     23\u001b[0m               early_stopping_rounds=100, verbose=False)\n",
      "\u001b[1;32m~\\anaconda3\\lib\\site-packages\\xgboost\\core.py\u001b[0m in \u001b[0;36minner_f\u001b[1;34m(*args, **kwargs)\u001b[0m\n\u001b[0;32m    431\u001b[0m         \u001b[1;32mfor\u001b[0m \u001b[0mk\u001b[0m\u001b[1;33m,\u001b[0m \u001b[0marg\u001b[0m \u001b[1;32min\u001b[0m \u001b[0mzip\u001b[0m\u001b[1;33m(\u001b[0m\u001b[0msig\u001b[0m\u001b[1;33m.\u001b[0m\u001b[0mparameters\u001b[0m\u001b[1;33m,\u001b[0m \u001b[0margs\u001b[0m\u001b[1;33m)\u001b[0m\u001b[1;33m:\u001b[0m\u001b[1;33m\u001b[0m\u001b[1;33m\u001b[0m\u001b[0m\n\u001b[0;32m    432\u001b[0m             \u001b[0mkwargs\u001b[0m\u001b[1;33m[\u001b[0m\u001b[0mk\u001b[0m\u001b[1;33m]\u001b[0m \u001b[1;33m=\u001b[0m \u001b[0marg\u001b[0m\u001b[1;33m\u001b[0m\u001b[1;33m\u001b[0m\u001b[0m\n\u001b[1;32m--> 433\u001b[1;33m         \u001b[1;32mreturn\u001b[0m \u001b[0mf\u001b[0m\u001b[1;33m(\u001b[0m\u001b[1;33m**\u001b[0m\u001b[0mkwargs\u001b[0m\u001b[1;33m)\u001b[0m\u001b[1;33m\u001b[0m\u001b[1;33m\u001b[0m\u001b[0m\n\u001b[0m\u001b[0;32m    434\u001b[0m \u001b[1;33m\u001b[0m\u001b[0m\n\u001b[0;32m    435\u001b[0m     \u001b[1;32mreturn\u001b[0m \u001b[0minner_f\u001b[0m\u001b[1;33m\u001b[0m\u001b[1;33m\u001b[0m\u001b[0m\n",
      "\u001b[1;32m~\\anaconda3\\lib\\site-packages\\xgboost\\sklearn.py\u001b[0m in \u001b[0;36mfit\u001b[1;34m(self, X, y, sample_weight, base_margin, eval_set, eval_metric, early_stopping_rounds, verbose, xgb_model, sample_weight_eval_set, base_margin_eval_set, feature_weights, callbacks)\u001b[0m\n\u001b[0;32m    734\u001b[0m \u001b[1;33m\u001b[0m\u001b[0m\n\u001b[0;32m    735\u001b[0m         \u001b[0mmodel\u001b[0m\u001b[1;33m,\u001b[0m \u001b[0mfeval\u001b[0m\u001b[1;33m,\u001b[0m \u001b[0mparams\u001b[0m \u001b[1;33m=\u001b[0m \u001b[0mself\u001b[0m\u001b[1;33m.\u001b[0m\u001b[0m_configure_fit\u001b[0m\u001b[1;33m(\u001b[0m\u001b[0mxgb_model\u001b[0m\u001b[1;33m,\u001b[0m \u001b[0meval_metric\u001b[0m\u001b[1;33m,\u001b[0m \u001b[0mparams\u001b[0m\u001b[1;33m)\u001b[0m\u001b[1;33m\u001b[0m\u001b[1;33m\u001b[0m\u001b[0m\n\u001b[1;32m--> 736\u001b[1;33m         self._Booster = train(\n\u001b[0m\u001b[0;32m    737\u001b[0m             \u001b[0mparams\u001b[0m\u001b[1;33m,\u001b[0m\u001b[1;33m\u001b[0m\u001b[1;33m\u001b[0m\u001b[0m\n\u001b[0;32m    738\u001b[0m             \u001b[0mtrain_dmatrix\u001b[0m\u001b[1;33m,\u001b[0m\u001b[1;33m\u001b[0m\u001b[1;33m\u001b[0m\u001b[0m\n",
      "\u001b[1;32m~\\anaconda3\\lib\\site-packages\\xgboost\\training.py\u001b[0m in \u001b[0;36mtrain\u001b[1;34m(params, dtrain, num_boost_round, evals, obj, feval, maximize, early_stopping_rounds, evals_result, verbose_eval, xgb_model, callbacks)\u001b[0m\n\u001b[0;32m    187\u001b[0m     \u001b[0mBooster\u001b[0m \u001b[1;33m:\u001b[0m \u001b[0ma\u001b[0m \u001b[0mtrained\u001b[0m \u001b[0mbooster\u001b[0m \u001b[0mmodel\u001b[0m\u001b[1;33m\u001b[0m\u001b[1;33m\u001b[0m\u001b[0m\n\u001b[0;32m    188\u001b[0m     \"\"\"\n\u001b[1;32m--> 189\u001b[1;33m     bst = _train_internal(params, dtrain,\n\u001b[0m\u001b[0;32m    190\u001b[0m                           \u001b[0mnum_boost_round\u001b[0m\u001b[1;33m=\u001b[0m\u001b[0mnum_boost_round\u001b[0m\u001b[1;33m,\u001b[0m\u001b[1;33m\u001b[0m\u001b[1;33m\u001b[0m\u001b[0m\n\u001b[0;32m    191\u001b[0m                           \u001b[0mevals\u001b[0m\u001b[1;33m=\u001b[0m\u001b[0mevals\u001b[0m\u001b[1;33m,\u001b[0m\u001b[1;33m\u001b[0m\u001b[1;33m\u001b[0m\u001b[0m\n",
      "\u001b[1;32m~\\anaconda3\\lib\\site-packages\\xgboost\\training.py\u001b[0m in \u001b[0;36m_train_internal\u001b[1;34m(params, dtrain, num_boost_round, evals, obj, feval, xgb_model, callbacks, evals_result, maximize, verbose_eval, early_stopping_rounds)\u001b[0m\n\u001b[0;32m     79\u001b[0m         \u001b[1;32mif\u001b[0m \u001b[0mcallbacks\u001b[0m\u001b[1;33m.\u001b[0m\u001b[0mbefore_iteration\u001b[0m\u001b[1;33m(\u001b[0m\u001b[0mbst\u001b[0m\u001b[1;33m,\u001b[0m \u001b[0mi\u001b[0m\u001b[1;33m,\u001b[0m \u001b[0mdtrain\u001b[0m\u001b[1;33m,\u001b[0m \u001b[0mevals\u001b[0m\u001b[1;33m)\u001b[0m\u001b[1;33m:\u001b[0m\u001b[1;33m\u001b[0m\u001b[1;33m\u001b[0m\u001b[0m\n\u001b[0;32m     80\u001b[0m             \u001b[1;32mbreak\u001b[0m\u001b[1;33m\u001b[0m\u001b[1;33m\u001b[0m\u001b[0m\n\u001b[1;32m---> 81\u001b[1;33m         \u001b[0mbst\u001b[0m\u001b[1;33m.\u001b[0m\u001b[0mupdate\u001b[0m\u001b[1;33m(\u001b[0m\u001b[0mdtrain\u001b[0m\u001b[1;33m,\u001b[0m \u001b[0mi\u001b[0m\u001b[1;33m,\u001b[0m \u001b[0mobj\u001b[0m\u001b[1;33m)\u001b[0m\u001b[1;33m\u001b[0m\u001b[1;33m\u001b[0m\u001b[0m\n\u001b[0m\u001b[0;32m     82\u001b[0m         \u001b[1;32mif\u001b[0m \u001b[0mcallbacks\u001b[0m\u001b[1;33m.\u001b[0m\u001b[0mafter_iteration\u001b[0m\u001b[1;33m(\u001b[0m\u001b[0mbst\u001b[0m\u001b[1;33m,\u001b[0m \u001b[0mi\u001b[0m\u001b[1;33m,\u001b[0m \u001b[0mdtrain\u001b[0m\u001b[1;33m,\u001b[0m \u001b[0mevals\u001b[0m\u001b[1;33m)\u001b[0m\u001b[1;33m:\u001b[0m\u001b[1;33m\u001b[0m\u001b[1;33m\u001b[0m\u001b[0m\n\u001b[0;32m     83\u001b[0m             \u001b[1;32mbreak\u001b[0m\u001b[1;33m\u001b[0m\u001b[1;33m\u001b[0m\u001b[0m\n",
      "\u001b[1;32m~\\anaconda3\\lib\\site-packages\\xgboost\\core.py\u001b[0m in \u001b[0;36mupdate\u001b[1;34m(self, dtrain, iteration, fobj)\u001b[0m\n\u001b[0;32m   1494\u001b[0m \u001b[1;33m\u001b[0m\u001b[0m\n\u001b[0;32m   1495\u001b[0m         \u001b[1;32mif\u001b[0m \u001b[0mfobj\u001b[0m \u001b[1;32mis\u001b[0m \u001b[1;32mNone\u001b[0m\u001b[1;33m:\u001b[0m\u001b[1;33m\u001b[0m\u001b[1;33m\u001b[0m\u001b[0m\n\u001b[1;32m-> 1496\u001b[1;33m             _check_call(_LIB.XGBoosterUpdateOneIter(self.handle,\n\u001b[0m\u001b[0;32m   1497\u001b[0m                                                     \u001b[0mctypes\u001b[0m\u001b[1;33m.\u001b[0m\u001b[0mc_int\u001b[0m\u001b[1;33m(\u001b[0m\u001b[0miteration\u001b[0m\u001b[1;33m)\u001b[0m\u001b[1;33m,\u001b[0m\u001b[1;33m\u001b[0m\u001b[1;33m\u001b[0m\u001b[0m\n\u001b[0;32m   1498\u001b[0m                                                     dtrain.handle))\n",
      "\u001b[1;31mKeyboardInterrupt\u001b[0m: "
     ]
    }
   ],
   "source": [
    "study = optuna.create_study(direction='minimize')\n",
    "study.optimize(objective, n_trials=50)\n",
    "print('Number of finished trials:', len(study.trials))\n",
    "study.best_trial\n",
    "study.best_trial.values\n",
    "study.best_trial.params"
   ]
  },
  {
   "cell_type": "code",
   "execution_count": null,
   "id": "29785ec1",
   "metadata": {},
   "outputs": [],
   "source": [
    "study.trials_dataframe()"
   ]
  },
  {
   "cell_type": "code",
   "execution_count": null,
   "id": "3ab81be1",
   "metadata": {},
   "outputs": [],
   "source": [
    "#plot_optimization_history: shows the scores from all trials as well as the best score so far at each point.\n",
    "optuna.visualization.plot_optimization_history(study)\n",
    "\n",
    "#plot_parallel_coordinate: interactively visualizes the hyperparameters and scores\n",
    "optuna.visualization.plot_parallel_coordinate(study)\n",
    "\n",
    "#plot_slice: shows the evolution of the search. You can see where in the hyperparameter space your search\n",
    "# went and which parts of the space were explored more\n",
    "optuna.visualization.plot_slice(study)\n",
    "\n",
    "#plot_contour: plots parameter interactions on an interactive chart. \n",
    "# You can choose which hyperparameters you would like to explore.\n",
    "optuna.visualization.plot_contour(study, params=['alpha',\n",
    "                            #'max_depth',\n",
    "                            'lambda',\n",
    "                            'subsample',\n",
    "                            'learning_rate',\n",
    "                            'subsample'])\n",
    "\n",
    "#Visualize parameter importances.\n",
    "optuna.visualization.plot_param_importances(study)\n",
    "\n",
    "#Visualize empirical distribution function\n",
    "optuna.visualization.plot_edf(study)"
   ]
  },
  {
   "cell_type": "code",
   "execution_count": null,
   "id": "bc9d34da",
   "metadata": {},
   "outputs": [],
   "source": [
    "Best_trial= {'lambda': 0.0030282073258141168, 'alpha': 0.01563845128469084, 'colsample_bytree': 0.5,\n",
    "             'subsample': 0.7,'n_estimators': 4000, 'learning_rate': 0.01,'max_depth': 15,\n",
    "             'random_state': 2020, 'min_child_weight': 257,'tree_method':'gpu_hist'}\n",
    "\n",
    "\n",
    "preds = np.zeros(test.shape[0])\n",
    "kf = KFold(n_splits=5,random_state=48,shuffle=True)\n",
    "rmse=[]  # list contains rmse for each fold\n",
    "n=0\n",
    "for trn_idx, test_idx in kf.split(train[columns],train['target']):\n",
    "    X_tr,X_val=train[columns].iloc[trn_idx],train[columns].iloc[test_idx]\n",
    "    y_tr,y_val=train['target'].iloc[trn_idx],train['target'].iloc[test_idx]\n",
    "    model = xgb.XGBRegressor(**Best_trial)\n",
    "    model.fit(X_tr,y_tr,eval_set=[(X_val,y_val)],early_stopping_rounds=100,verbose=False)\n",
    "    preds+=model.predict(test[columns])/kf.n_splits\n",
    "    rmse.append(mean_squared_error(y_val, model.predict(X_val), squared=False))\n",
    "    print(n+1,rmse[n])\n",
    "    n+=1\n",
    "\n",
    "\n",
    "np.mean(rmse)"
   ]
  },
  {
   "cell_type": "markdown",
   "id": "279e8a80",
   "metadata": {},
   "source": [
    "# Catboost"
   ]
  },
  {
   "cell_type": "code",
   "execution_count": 11,
   "id": "89da21c3",
   "metadata": {},
   "outputs": [],
   "source": [
    "from catboost import CatBoostRegressor\n",
    "from sklearn.metrics import mean_squared_error\n",
    "from sklearn.model_selection import StratifiedKFold, StratifiedShuffleSplit"
   ]
  },
  {
   "cell_type": "code",
   "execution_count": 12,
   "id": "b1c56229",
   "metadata": {},
   "outputs": [],
   "source": [
    "params = {'depth' :6,\n",
    "          'iterations' :1600,\n",
    "          'learning_rate' :0.024,\n",
    "          'l2_leaf_reg' :20,\n",
    "          'random_strength' :1.5,\n",
    "          'grow_policy' :'Depthwise',\n",
    "          'leaf_estimation_method' :'Newton', \n",
    "          'bootstrap_type' :'Bernoulli',\n",
    "          'thread_count' :4,\n",
    "          'verbose' :False,\n",
    "          'loss_function' :'RMSE', \n",
    "          'eval_metric' :'RMSE', \n",
    "          'od_type' :'Iter', \n",
    "#          'task_type' :'GPU', \n",
    "          'early_stopping_rounds' :500\n",
    "}"
   ]
  },
  {
   "cell_type": "code",
   "execution_count": 13,
   "id": "4f5e1598",
   "metadata": {},
   "outputs": [
    {
     "data": {
      "text/plain": [
       "<catboost.core.CatBoostRegressor at 0x1d00b05c430>"
      ]
     },
     "execution_count": 13,
     "metadata": {},
     "output_type": "execute_result"
    },
    {
     "name": "stdout",
     "output_type": "stream",
     "text": [
      "Fold 0 RMSE: 8.011110577929017\n"
     ]
    },
    {
     "data": {
      "text/plain": [
       "<catboost.core.CatBoostRegressor at 0x1d00b15b9a0>"
      ]
     },
     "execution_count": 13,
     "metadata": {},
     "output_type": "execute_result"
    },
    {
     "name": "stdout",
     "output_type": "stream",
     "text": [
      "Fold 1 RMSE: 8.002351996054163\n"
     ]
    },
    {
     "data": {
      "text/plain": [
       "<catboost.core.CatBoostRegressor at 0x1d00b0acb80>"
      ]
     },
     "execution_count": 13,
     "metadata": {},
     "output_type": "execute_result"
    },
    {
     "name": "stdout",
     "output_type": "stream",
     "text": [
      "Fold 2 RMSE: 7.983278244432914\n"
     ]
    },
    {
     "data": {
      "text/plain": [
       "<catboost.core.CatBoostRegressor at 0x1d00b15b760>"
      ]
     },
     "execution_count": 13,
     "metadata": {},
     "output_type": "execute_result"
    },
    {
     "name": "stdout",
     "output_type": "stream",
     "text": [
      "Fold 3 RMSE: 7.922868178477842\n"
     ]
    },
    {
     "data": {
      "text/plain": [
       "<catboost.core.CatBoostRegressor at 0x1d06c413c10>"
      ]
     },
     "execution_count": 13,
     "metadata": {},
     "output_type": "execute_result"
    },
    {
     "name": "stdout",
     "output_type": "stream",
     "text": [
      "Fold 4 RMSE: 8.019124820164457\n"
     ]
    },
    {
     "data": {
      "text/plain": [
       "<catboost.core.CatBoostRegressor at 0x1d078a1c460>"
      ]
     },
     "execution_count": 13,
     "metadata": {},
     "output_type": "execute_result"
    },
    {
     "name": "stdout",
     "output_type": "stream",
     "text": [
      "Fold 5 RMSE: 7.98023014944114\n"
     ]
    },
    {
     "data": {
      "text/plain": [
       "<catboost.core.CatBoostRegressor at 0x1d00b056550>"
      ]
     },
     "execution_count": 13,
     "metadata": {},
     "output_type": "execute_result"
    },
    {
     "name": "stdout",
     "output_type": "stream",
     "text": [
      "Fold 6 RMSE: 7.995939933152201\n"
     ]
    },
    {
     "data": {
      "text/plain": [
       "<catboost.core.CatBoostRegressor at 0x1d00b15b100>"
      ]
     },
     "execution_count": 13,
     "metadata": {},
     "output_type": "execute_result"
    },
    {
     "name": "stdout",
     "output_type": "stream",
     "text": [
      "Fold 7 RMSE: 8.04306409158023\n"
     ]
    },
    {
     "data": {
      "text/plain": [
       "<catboost.core.CatBoostRegressor at 0x1d00b056460>"
      ]
     },
     "execution_count": 13,
     "metadata": {},
     "output_type": "execute_result"
    },
    {
     "name": "stdout",
     "output_type": "stream",
     "text": [
      "Fold 8 RMSE: 7.930784375603254\n"
     ]
    },
    {
     "data": {
      "text/plain": [
       "<catboost.core.CatBoostRegressor at 0x1d00b155e20>"
      ]
     },
     "execution_count": 13,
     "metadata": {},
     "output_type": "execute_result"
    },
    {
     "name": "stdout",
     "output_type": "stream",
     "text": [
      "Fold 9 RMSE: 7.928860464839702\n"
     ]
    },
    {
     "data": {
      "text/plain": [
       "<catboost.core.CatBoostRegressor at 0x1d06dc4b760>"
      ]
     },
     "execution_count": 13,
     "metadata": {},
     "output_type": "execute_result"
    },
    {
     "name": "stdout",
     "output_type": "stream",
     "text": [
      "Fold 10 RMSE: 7.981307247426467\n"
     ]
    },
    {
     "data": {
      "text/plain": [
       "<catboost.core.CatBoostRegressor at 0x1d07aab34f0>"
      ]
     },
     "execution_count": 13,
     "metadata": {},
     "output_type": "execute_result"
    },
    {
     "name": "stdout",
     "output_type": "stream",
     "text": [
      "Fold 11 RMSE: 7.9141092615302915\n"
     ]
    }
   ],
   "source": [
    "splits = 12\n",
    "stf = StratifiedKFold(n_splits=splits, shuffle=True)\n",
    "oof= np.zeros((X.shape[0],))\n",
    "prediction = 0\n",
    "model_fi = 0\n",
    "total_mean_rmse = 0\n",
    "\n",
    "for num, (train_id, valid_id) in enumerate(stf.split(X, y)):\n",
    "    X_train, X_valid = X.loc[train_id], X.loc[valid_id]\n",
    "    y_train, y_valid = y.loc[train_id], y.loc[valid_id]\n",
    "    \n",
    "    model = CatBoostRegressor(**params)\n",
    "    model.fit(X_train, y_train,\n",
    "              eval_set=[(X_train, y_train), (X_valid, y_valid)], verbose=0)\n",
    "    \n",
    "    prediction += model.predict(test) / splits\n",
    "    oof[valid_id] = model.predict(X_valid)\n",
    "    oof[oof < 0] = 0\n",
    "\n",
    "    fold_rmse = np.sqrt(mean_squared_error(y_valid, oof[valid_id]))\n",
    "    print(f\"Fold {num} RMSE: {fold_rmse}\")"
   ]
  },
  {
   "cell_type": "markdown",
   "id": "f0cb89dc",
   "metadata": {},
   "source": [
    "## Tune with optuna"
   ]
  },
  {
   "cell_type": "code",
   "execution_count": 64,
   "id": "99cc57a1-85d6-4a73-ab44-3e48790ddbf4",
   "metadata": {},
   "outputs": [],
   "source": [
    "def objective(trial, data =X, target =y):\n",
    "    \n",
    "    param = {\n",
    "            'max_depth': trial.suggest_int('max_depth', 6, 12),\n",
    "            'learning_rate': trial.suggest_float('eta', 0.007, 0.013),\n",
    "            'n_estimators': trial.suggest_int('n_estimators', 500, 25000, 500),\n",
    "            'subsample': trial.suggest_discrete_uniform('subsample', 0.5, 0.9, 0.1),\n",
    "            'reg_lambda': trial.suggest_int('reg_lambda', 1, 50),\n",
    "#            'task_type': 'GPU', # only with GPU\n",
    "            'task_type': 'CPU',\n",
    "            'bootstrap_type': 'Bernoulli', \n",
    "            'eval_metric':'RMSE',\n",
    "            'verbose': False\n",
    "        }\n",
    "\n",
    "    \n",
    "# Use cross_val_score for cross validation\n",
    "#    splits = 12\n",
    "#    stf = StratifiedKFold(n_splits=splits, shuffle=True)\n",
    "#    model = CatBoostRegressor(**param)\n",
    "#    mse = cross_val_score(model, X, y, cv= stf, scoring =\"neg_root_mean_squared_error\")\n",
    "#    return mse.mean()    \n",
    "\n",
    "\n",
    "    train_x, test_x, train_y, test_y = train_test_split(data, target, test_size=0.15,random_state=42)\n",
    "\n",
    "    model = CatBoostRegressor(**param)   \n",
    "    model.fit(train_x, train_y, eval_set=[(test_x, test_y)],\n",
    "              early_stopping_rounds=100, verbose=False)\n",
    "    \n",
    "    preds = model.predict(test_x)\n",
    "    rmse = mean_squared_error(test_y, preds,squared=False)\n",
    "    return rmse"
   ]
  },
  {
   "cell_type": "code",
   "execution_count": 65,
   "id": "5451a7c8",
   "metadata": {},
   "outputs": [
    {
     "name": "stderr",
     "output_type": "stream",
     "text": [
      "\u001b[32m[I 2021-08-21 15:00:43,138]\u001b[0m A new study created in memory with name: no-name-cffe3d3e-93f9-4943-a239-fafdeb30fbc9\u001b[0m\n",
      "Custom logger is already specified. Specify more than one logger at same time is not thread safe.\u001b[32m[I 2021-08-21 15:03:37,780]\u001b[0m Trial 0 finished with value: 7.5682322060148985 and parameters: {'max_depth': 9, 'eta': 0.012880894489084875, 'n_estimators': 3000, 'subsample': 0.5, 'reg_lambda': 45}. Best is trial 0 with value: 7.5682322060148985.\u001b[0m\n"
     ]
    },
    {
     "ename": "KeyboardInterrupt",
     "evalue": "",
     "output_type": "error",
     "traceback": [
      "\u001b[1;31m---------------------------------------------------------------------------\u001b[0m",
      "\u001b[1;31mKeyboardInterrupt\u001b[0m                         Traceback (most recent call last)",
      "\u001b[1;32m<ipython-input-65-a1dabc8f29ea>\u001b[0m in \u001b[0;36m<module>\u001b[1;34m\u001b[0m\n\u001b[0;32m      1\u001b[0m \u001b[0mstudy\u001b[0m \u001b[1;33m=\u001b[0m \u001b[0moptuna\u001b[0m\u001b[1;33m.\u001b[0m\u001b[0mcreate_study\u001b[0m\u001b[1;33m(\u001b[0m\u001b[0mdirection\u001b[0m\u001b[1;33m=\u001b[0m\u001b[1;34m'minimize'\u001b[0m\u001b[1;33m)\u001b[0m\u001b[1;33m\u001b[0m\u001b[1;33m\u001b[0m\u001b[0m\n\u001b[1;32m----> 2\u001b[1;33m \u001b[0mstudy\u001b[0m\u001b[1;33m.\u001b[0m\u001b[0moptimize\u001b[0m\u001b[1;33m(\u001b[0m\u001b[0mobjective\u001b[0m\u001b[1;33m,\u001b[0m \u001b[0mn_trials\u001b[0m\u001b[1;33m=\u001b[0m\u001b[1;36m50\u001b[0m\u001b[1;33m)\u001b[0m\u001b[1;33m\u001b[0m\u001b[1;33m\u001b[0m\u001b[0m\n\u001b[0m\u001b[0;32m      3\u001b[0m \u001b[0mprint\u001b[0m\u001b[1;33m(\u001b[0m\u001b[1;34m'Number of finished trials:'\u001b[0m\u001b[1;33m,\u001b[0m \u001b[0mlen\u001b[0m\u001b[1;33m(\u001b[0m\u001b[0mstudy\u001b[0m\u001b[1;33m.\u001b[0m\u001b[0mtrials\u001b[0m\u001b[1;33m)\u001b[0m\u001b[1;33m)\u001b[0m\u001b[1;33m\u001b[0m\u001b[1;33m\u001b[0m\u001b[0m\n\u001b[0;32m      4\u001b[0m \u001b[0mprint\u001b[0m\u001b[1;33m(\u001b[0m\u001b[1;34m'Best trial:'\u001b[0m\u001b[1;33m,\u001b[0m \u001b[0mstudy\u001b[0m\u001b[1;33m.\u001b[0m\u001b[0mbest_trial\u001b[0m\u001b[1;33m.\u001b[0m\u001b[0mparams\u001b[0m\u001b[1;33m)\u001b[0m\u001b[1;33m\u001b[0m\u001b[1;33m\u001b[0m\u001b[0m\n",
      "\u001b[1;32m~\\anaconda3\\lib\\site-packages\\optuna\\study\\study.py\u001b[0m in \u001b[0;36moptimize\u001b[1;34m(self, func, n_trials, timeout, n_jobs, catch, callbacks, gc_after_trial, show_progress_bar)\u001b[0m\n\u001b[0;32m    398\u001b[0m             )\n\u001b[0;32m    399\u001b[0m \u001b[1;33m\u001b[0m\u001b[0m\n\u001b[1;32m--> 400\u001b[1;33m         _optimize(\n\u001b[0m\u001b[0;32m    401\u001b[0m             \u001b[0mstudy\u001b[0m\u001b[1;33m=\u001b[0m\u001b[0mself\u001b[0m\u001b[1;33m,\u001b[0m\u001b[1;33m\u001b[0m\u001b[1;33m\u001b[0m\u001b[0m\n\u001b[0;32m    402\u001b[0m             \u001b[0mfunc\u001b[0m\u001b[1;33m=\u001b[0m\u001b[0mfunc\u001b[0m\u001b[1;33m,\u001b[0m\u001b[1;33m\u001b[0m\u001b[1;33m\u001b[0m\u001b[0m\n",
      "\u001b[1;32m~\\anaconda3\\lib\\site-packages\\optuna\\study\\_optimize.py\u001b[0m in \u001b[0;36m_optimize\u001b[1;34m(study, func, n_trials, timeout, n_jobs, catch, callbacks, gc_after_trial, show_progress_bar)\u001b[0m\n\u001b[0;32m     64\u001b[0m     \u001b[1;32mtry\u001b[0m\u001b[1;33m:\u001b[0m\u001b[1;33m\u001b[0m\u001b[1;33m\u001b[0m\u001b[0m\n\u001b[0;32m     65\u001b[0m         \u001b[1;32mif\u001b[0m \u001b[0mn_jobs\u001b[0m \u001b[1;33m==\u001b[0m \u001b[1;36m1\u001b[0m\u001b[1;33m:\u001b[0m\u001b[1;33m\u001b[0m\u001b[1;33m\u001b[0m\u001b[0m\n\u001b[1;32m---> 66\u001b[1;33m             _optimize_sequential(\n\u001b[0m\u001b[0;32m     67\u001b[0m                 \u001b[0mstudy\u001b[0m\u001b[1;33m,\u001b[0m\u001b[1;33m\u001b[0m\u001b[1;33m\u001b[0m\u001b[0m\n\u001b[0;32m     68\u001b[0m                 \u001b[0mfunc\u001b[0m\u001b[1;33m,\u001b[0m\u001b[1;33m\u001b[0m\u001b[1;33m\u001b[0m\u001b[0m\n",
      "\u001b[1;32m~\\anaconda3\\lib\\site-packages\\optuna\\study\\_optimize.py\u001b[0m in \u001b[0;36m_optimize_sequential\u001b[1;34m(study, func, n_trials, timeout, catch, callbacks, gc_after_trial, reseed_sampler_rng, time_start, progress_bar)\u001b[0m\n\u001b[0;32m    161\u001b[0m \u001b[1;33m\u001b[0m\u001b[0m\n\u001b[0;32m    162\u001b[0m         \u001b[1;32mtry\u001b[0m\u001b[1;33m:\u001b[0m\u001b[1;33m\u001b[0m\u001b[1;33m\u001b[0m\u001b[0m\n\u001b[1;32m--> 163\u001b[1;33m             \u001b[0mtrial\u001b[0m \u001b[1;33m=\u001b[0m \u001b[0m_run_trial\u001b[0m\u001b[1;33m(\u001b[0m\u001b[0mstudy\u001b[0m\u001b[1;33m,\u001b[0m \u001b[0mfunc\u001b[0m\u001b[1;33m,\u001b[0m \u001b[0mcatch\u001b[0m\u001b[1;33m)\u001b[0m\u001b[1;33m\u001b[0m\u001b[1;33m\u001b[0m\u001b[0m\n\u001b[0m\u001b[0;32m    164\u001b[0m         \u001b[1;32mexcept\u001b[0m \u001b[0mException\u001b[0m\u001b[1;33m:\u001b[0m\u001b[1;33m\u001b[0m\u001b[1;33m\u001b[0m\u001b[0m\n\u001b[0;32m    165\u001b[0m             \u001b[1;32mraise\u001b[0m\u001b[1;33m\u001b[0m\u001b[1;33m\u001b[0m\u001b[0m\n",
      "\u001b[1;32m~\\anaconda3\\lib\\site-packages\\optuna\\study\\_optimize.py\u001b[0m in \u001b[0;36m_run_trial\u001b[1;34m(study, func, catch)\u001b[0m\n\u001b[0;32m    211\u001b[0m \u001b[1;33m\u001b[0m\u001b[0m\n\u001b[0;32m    212\u001b[0m     \u001b[1;32mtry\u001b[0m\u001b[1;33m:\u001b[0m\u001b[1;33m\u001b[0m\u001b[1;33m\u001b[0m\u001b[0m\n\u001b[1;32m--> 213\u001b[1;33m         \u001b[0mvalue_or_values\u001b[0m \u001b[1;33m=\u001b[0m \u001b[0mfunc\u001b[0m\u001b[1;33m(\u001b[0m\u001b[0mtrial\u001b[0m\u001b[1;33m)\u001b[0m\u001b[1;33m\u001b[0m\u001b[1;33m\u001b[0m\u001b[0m\n\u001b[0m\u001b[0;32m    214\u001b[0m     \u001b[1;32mexcept\u001b[0m \u001b[0mexceptions\u001b[0m\u001b[1;33m.\u001b[0m\u001b[0mTrialPruned\u001b[0m \u001b[1;32mas\u001b[0m \u001b[0me\u001b[0m\u001b[1;33m:\u001b[0m\u001b[1;33m\u001b[0m\u001b[1;33m\u001b[0m\u001b[0m\n\u001b[0;32m    215\u001b[0m         \u001b[1;31m# TODO(mamu): Handle multi-objective cases.\u001b[0m\u001b[1;33m\u001b[0m\u001b[1;33m\u001b[0m\u001b[1;33m\u001b[0m\u001b[0m\n",
      "\u001b[1;32m<ipython-input-64-2a26a6a6cebd>\u001b[0m in \u001b[0;36mobjective\u001b[1;34m(trial, data, target)\u001b[0m\n\u001b[0;32m     26\u001b[0m \u001b[1;33m\u001b[0m\u001b[0m\n\u001b[0;32m     27\u001b[0m     \u001b[0mmodel\u001b[0m \u001b[1;33m=\u001b[0m \u001b[0mCatBoostRegressor\u001b[0m\u001b[1;33m(\u001b[0m\u001b[1;33m**\u001b[0m\u001b[0mparam\u001b[0m\u001b[1;33m)\u001b[0m\u001b[1;33m\u001b[0m\u001b[1;33m\u001b[0m\u001b[0m\n\u001b[1;32m---> 28\u001b[1;33m     model.fit(train_x, train_y, eval_set=[(test_x, test_y)],\n\u001b[0m\u001b[0;32m     29\u001b[0m               early_stopping_rounds=100, verbose=False)\n\u001b[0;32m     30\u001b[0m \u001b[1;33m\u001b[0m\u001b[0m\n",
      "\u001b[1;32m~\\anaconda3\\lib\\site-packages\\catboost\\core.py\u001b[0m in \u001b[0;36mfit\u001b[1;34m(self, X, y, cat_features, sample_weight, baseline, use_best_model, eval_set, verbose, logging_level, plot, column_description, verbose_eval, metric_period, silent, early_stopping_rounds, save_snapshot, snapshot_file, snapshot_interval, init_model, callbacks, log_cout, log_cerr)\u001b[0m\n\u001b[0;32m   5256\u001b[0m             \u001b[0mCatBoostRegressor\u001b[0m\u001b[1;33m.\u001b[0m\u001b[0m_check_is_compatible_loss\u001b[0m\u001b[1;33m(\u001b[0m\u001b[0mparams\u001b[0m\u001b[1;33m[\u001b[0m\u001b[1;34m'loss_function'\u001b[0m\u001b[1;33m]\u001b[0m\u001b[1;33m)\u001b[0m\u001b[1;33m\u001b[0m\u001b[1;33m\u001b[0m\u001b[0m\n\u001b[0;32m   5257\u001b[0m \u001b[1;33m\u001b[0m\u001b[0m\n\u001b[1;32m-> 5258\u001b[1;33m         return self._fit(X, y, cat_features, None, None, None, sample_weight, None, None, None, None, baseline,\n\u001b[0m\u001b[0;32m   5259\u001b[0m                          \u001b[0muse_best_model\u001b[0m\u001b[1;33m,\u001b[0m \u001b[0meval_set\u001b[0m\u001b[1;33m,\u001b[0m \u001b[0mverbose\u001b[0m\u001b[1;33m,\u001b[0m \u001b[0mlogging_level\u001b[0m\u001b[1;33m,\u001b[0m \u001b[0mplot\u001b[0m\u001b[1;33m,\u001b[0m \u001b[0mcolumn_description\u001b[0m\u001b[1;33m,\u001b[0m\u001b[1;33m\u001b[0m\u001b[1;33m\u001b[0m\u001b[0m\n\u001b[0;32m   5260\u001b[0m                          \u001b[0mverbose_eval\u001b[0m\u001b[1;33m,\u001b[0m \u001b[0mmetric_period\u001b[0m\u001b[1;33m,\u001b[0m \u001b[0msilent\u001b[0m\u001b[1;33m,\u001b[0m \u001b[0mearly_stopping_rounds\u001b[0m\u001b[1;33m,\u001b[0m\u001b[1;33m\u001b[0m\u001b[1;33m\u001b[0m\u001b[0m\n",
      "\u001b[1;32m~\\anaconda3\\lib\\site-packages\\catboost\\core.py\u001b[0m in \u001b[0;36m_fit\u001b[1;34m(self, X, y, cat_features, text_features, embedding_features, pairs, sample_weight, group_id, group_weight, subgroup_id, pairs_weight, baseline, use_best_model, eval_set, verbose, logging_level, plot, column_description, verbose_eval, metric_period, silent, early_stopping_rounds, save_snapshot, snapshot_file, snapshot_interval, init_model, callbacks, log_cout, log_cerr)\u001b[0m\n\u001b[0;32m   1995\u001b[0m         \u001b[1;32mwith\u001b[0m \u001b[0mlog_fixup\u001b[0m\u001b[1;33m(\u001b[0m\u001b[0mlog_cout\u001b[0m\u001b[1;33m,\u001b[0m \u001b[0mlog_cerr\u001b[0m\u001b[1;33m)\u001b[0m\u001b[1;33m,\u001b[0m\u001b[0;31m \u001b[0m\u001b[0;31m\\\u001b[0m\u001b[1;33m\u001b[0m\u001b[1;33m\u001b[0m\u001b[0m\n\u001b[0;32m   1996\u001b[0m             \u001b[0mplot_wrapper\u001b[0m\u001b[1;33m(\u001b[0m\u001b[0mplot\u001b[0m\u001b[1;33m,\u001b[0m \u001b[1;33m[\u001b[0m\u001b[0m_get_train_dir\u001b[0m\u001b[1;33m(\u001b[0m\u001b[0mself\u001b[0m\u001b[1;33m.\u001b[0m\u001b[0mget_params\u001b[0m\u001b[1;33m(\u001b[0m\u001b[1;33m)\u001b[0m\u001b[1;33m)\u001b[0m\u001b[1;33m]\u001b[0m\u001b[1;33m)\u001b[0m\u001b[1;33m:\u001b[0m\u001b[1;33m\u001b[0m\u001b[1;33m\u001b[0m\u001b[0m\n\u001b[1;32m-> 1997\u001b[1;33m             self._train(\n\u001b[0m\u001b[0;32m   1998\u001b[0m                 \u001b[0mtrain_pool\u001b[0m\u001b[1;33m,\u001b[0m\u001b[1;33m\u001b[0m\u001b[1;33m\u001b[0m\u001b[0m\n\u001b[0;32m   1999\u001b[0m                 \u001b[0mtrain_params\u001b[0m\u001b[1;33m[\u001b[0m\u001b[1;34m\"eval_sets\"\u001b[0m\u001b[1;33m]\u001b[0m\u001b[1;33m,\u001b[0m\u001b[1;33m\u001b[0m\u001b[1;33m\u001b[0m\u001b[0m\n",
      "\u001b[1;32m~\\anaconda3\\lib\\site-packages\\catboost\\core.py\u001b[0m in \u001b[0;36m_train\u001b[1;34m(self, train_pool, test_pool, params, allow_clear_pool, init_model)\u001b[0m\n\u001b[0;32m   1426\u001b[0m \u001b[1;33m\u001b[0m\u001b[0m\n\u001b[0;32m   1427\u001b[0m     \u001b[1;32mdef\u001b[0m \u001b[0m_train\u001b[0m\u001b[1;33m(\u001b[0m\u001b[0mself\u001b[0m\u001b[1;33m,\u001b[0m \u001b[0mtrain_pool\u001b[0m\u001b[1;33m,\u001b[0m \u001b[0mtest_pool\u001b[0m\u001b[1;33m,\u001b[0m \u001b[0mparams\u001b[0m\u001b[1;33m,\u001b[0m \u001b[0mallow_clear_pool\u001b[0m\u001b[1;33m,\u001b[0m \u001b[0minit_model\u001b[0m\u001b[1;33m)\u001b[0m\u001b[1;33m:\u001b[0m\u001b[1;33m\u001b[0m\u001b[1;33m\u001b[0m\u001b[0m\n\u001b[1;32m-> 1428\u001b[1;33m         \u001b[0mself\u001b[0m\u001b[1;33m.\u001b[0m\u001b[0m_object\u001b[0m\u001b[1;33m.\u001b[0m\u001b[0m_train\u001b[0m\u001b[1;33m(\u001b[0m\u001b[0mtrain_pool\u001b[0m\u001b[1;33m,\u001b[0m \u001b[0mtest_pool\u001b[0m\u001b[1;33m,\u001b[0m \u001b[0mparams\u001b[0m\u001b[1;33m,\u001b[0m \u001b[0mallow_clear_pool\u001b[0m\u001b[1;33m,\u001b[0m \u001b[0minit_model\u001b[0m\u001b[1;33m.\u001b[0m\u001b[0m_object\u001b[0m \u001b[1;32mif\u001b[0m \u001b[0minit_model\u001b[0m \u001b[1;32melse\u001b[0m \u001b[1;32mNone\u001b[0m\u001b[1;33m)\u001b[0m\u001b[1;33m\u001b[0m\u001b[1;33m\u001b[0m\u001b[0m\n\u001b[0m\u001b[0;32m   1429\u001b[0m         \u001b[0mself\u001b[0m\u001b[1;33m.\u001b[0m\u001b[0m_set_trained_model_attributes\u001b[0m\u001b[1;33m(\u001b[0m\u001b[1;33m)\u001b[0m\u001b[1;33m\u001b[0m\u001b[1;33m\u001b[0m\u001b[0m\n\u001b[0;32m   1430\u001b[0m \u001b[1;33m\u001b[0m\u001b[0m\n",
      "\u001b[1;32m_catboost.pyx\u001b[0m in \u001b[0;36m_catboost._CatBoost._train\u001b[1;34m()\u001b[0m\n",
      "\u001b[1;32m_catboost.pyx\u001b[0m in \u001b[0;36m_catboost._CatBoost._train\u001b[1;34m()\u001b[0m\n",
      "\u001b[1;31mKeyboardInterrupt\u001b[0m: "
     ]
    }
   ],
   "source": [
    "study = optuna.create_study(direction='minimize')\n",
    "study.optimize(objective, n_trials=50)\n",
    "print('Number of finished trials:', len(study.trials))\n",
    "study.best_trial\n",
    "study.best_trial.values\n",
    "study.best_trial.params"
   ]
  },
  {
   "cell_type": "code",
   "execution_count": null,
   "id": "b56410a6",
   "metadata": {},
   "outputs": [],
   "source": [
    "#plot_optimization_history: shows the scores from all trials as well as the best score so far at each point.\n",
    "optuna.visualization.plot_optimization_history(study)\n",
    "\n",
    "#plot_parallel_coordinate: interactively visualizes the hyperparameters and scores\n",
    "optuna.visualization.plot_parallel_coordinate(study)\n",
    "\n",
    "#plot_slice: shows the evolution of the search. You can see where in the hyperparameter space your search\n",
    "# went and which parts of the space were explored more\n",
    "optuna.visualization.plot_slice(study)\n",
    "\n",
    "#plot_contour: plots parameter interactions on an interactive chart. \n",
    "# You can choose which hyperparameters you would like to explore.\n",
    "optuna.visualization.plot_contour(study, params=['alpha',\n",
    "                            #'max_depth',\n",
    "                            'lambda',\n",
    "                            'subsample',\n",
    "                            'learning_rate',\n",
    "                            'subsample'])\n",
    "\n",
    "#Visualize parameter importances.\n",
    "optuna.visualization.plot_param_importances(study)\n",
    "\n",
    "#Visualize empirical distribution function\n",
    "optuna.visualization.plot_edf(study)"
   ]
  },
  {
   "cell_type": "code",
   "execution_count": null,
   "id": "893d1b00",
   "metadata": {},
   "outputs": [],
   "source": [
    "Best_trial = {'l2_leaf_reg': 0.02247766515106271, 'max_bin': 364, 'subsample': 0.6708650091202213,\n",
    "             'learning_rate': 0.010290546311954876, 'max_depth': 10, 'random_state': 24, 'min_data_in_leaf': 300,\n",
    "            'task_type': 'GPU','loss_function': 'RMSE','n_estimators':  25000}\n",
    "\n",
    "\n",
    "preds = np.zeros(test.shape[0])\n",
    "kf = KFold(n_splits=10,random_state=48,shuffle=True)\n",
    "rmse=[]   # list contains rmse for each fold\n",
    "n=0\n",
    "for trn_idx, test_idx in kf.split(train[columns],train['target']):\n",
    "    X_tr,X_val=train[columns].iloc[trn_idx],train[columns].iloc[test_idx]\n",
    "    y_tr,y_val=train['target'].iloc[trn_idx],train['target'].iloc[test_idx]\n",
    "    model = CatBoostRegressor(**Best_trial)\n",
    "    model.fit(X_tr,y_tr,eval_set=[(X_val,y_val)],early_stopping_rounds=200,verbose=False)\n",
    "    preds+=model.predict(test[columns])/kf.n_splits\n",
    "    rmse.append(mean_squared_error(y_val, model.predict(X_val), squared=False))\n",
    "    print(n+1,rmse[n])\n",
    "    n+=1\n",
    "\n",
    "    \n",
    "np.mean(rmse)"
   ]
  },
  {
   "cell_type": "markdown",
   "id": "564533a5",
   "metadata": {},
   "source": [
    "# LightGBM"
   ]
  },
  {
   "cell_type": "code",
   "execution_count": 14,
   "id": "afd781f4",
   "metadata": {},
   "outputs": [],
   "source": [
    "from lightgbm import LGBMRegressor\n",
    "\n",
    "lgb =LGBMRegressor()"
   ]
  },
  {
   "cell_type": "code",
   "execution_count": 17,
   "id": "5c4f4f5d-8a8e-4ed1-a806-22ab615938a1",
   "metadata": {},
   "outputs": [
    {
     "data": {
      "text/plain": [
       "LGBMRegressor()"
      ]
     },
     "execution_count": 17,
     "metadata": {},
     "output_type": "execute_result"
    },
    {
     "name": "stdout",
     "output_type": "stream",
     "text": [
      "Fold 0 RMSE: 8.196659741320799\n"
     ]
    },
    {
     "data": {
      "text/plain": [
       "LGBMRegressor()"
      ]
     },
     "execution_count": 17,
     "metadata": {},
     "output_type": "execute_result"
    },
    {
     "name": "stdout",
     "output_type": "stream",
     "text": [
      "Fold 1 RMSE: 8.23003072965846\n"
     ]
    },
    {
     "data": {
      "text/plain": [
       "LGBMRegressor()"
      ]
     },
     "execution_count": 17,
     "metadata": {},
     "output_type": "execute_result"
    },
    {
     "name": "stdout",
     "output_type": "stream",
     "text": [
      "Fold 2 RMSE: 8.16693358658411\n"
     ]
    },
    {
     "data": {
      "text/plain": [
       "LGBMRegressor()"
      ]
     },
     "execution_count": 17,
     "metadata": {},
     "output_type": "execute_result"
    },
    {
     "name": "stdout",
     "output_type": "stream",
     "text": [
      "Fold 3 RMSE: 8.26466025112016\n"
     ]
    },
    {
     "data": {
      "text/plain": [
       "LGBMRegressor()"
      ]
     },
     "execution_count": 17,
     "metadata": {},
     "output_type": "execute_result"
    },
    {
     "name": "stdout",
     "output_type": "stream",
     "text": [
      "Fold 4 RMSE: 8.263704896865073\n"
     ]
    },
    {
     "data": {
      "text/plain": [
       "LGBMRegressor()"
      ]
     },
     "execution_count": 17,
     "metadata": {},
     "output_type": "execute_result"
    },
    {
     "name": "stdout",
     "output_type": "stream",
     "text": [
      "Fold 5 RMSE: 8.177618143309953\n"
     ]
    },
    {
     "data": {
      "text/plain": [
       "LGBMRegressor()"
      ]
     },
     "execution_count": 17,
     "metadata": {},
     "output_type": "execute_result"
    },
    {
     "name": "stdout",
     "output_type": "stream",
     "text": [
      "Fold 6 RMSE: 8.142422135806832\n"
     ]
    },
    {
     "data": {
      "text/plain": [
       "LGBMRegressor()"
      ]
     },
     "execution_count": 17,
     "metadata": {},
     "output_type": "execute_result"
    },
    {
     "name": "stdout",
     "output_type": "stream",
     "text": [
      "Fold 7 RMSE: 8.234175841480482\n"
     ]
    },
    {
     "data": {
      "text/plain": [
       "LGBMRegressor()"
      ]
     },
     "execution_count": 17,
     "metadata": {},
     "output_type": "execute_result"
    },
    {
     "name": "stdout",
     "output_type": "stream",
     "text": [
      "Fold 8 RMSE: 8.142318693080153\n"
     ]
    },
    {
     "data": {
      "text/plain": [
       "LGBMRegressor()"
      ]
     },
     "execution_count": 17,
     "metadata": {},
     "output_type": "execute_result"
    },
    {
     "name": "stdout",
     "output_type": "stream",
     "text": [
      "Fold 9 RMSE: 8.015337557205292\n"
     ]
    },
    {
     "data": {
      "text/plain": [
       "LGBMRegressor()"
      ]
     },
     "execution_count": 17,
     "metadata": {},
     "output_type": "execute_result"
    },
    {
     "name": "stdout",
     "output_type": "stream",
     "text": [
      "Fold 10 RMSE: 8.323322036161233\n"
     ]
    },
    {
     "data": {
      "text/plain": [
       "LGBMRegressor()"
      ]
     },
     "execution_count": 17,
     "metadata": {},
     "output_type": "execute_result"
    },
    {
     "name": "stdout",
     "output_type": "stream",
     "text": [
      "Fold 11 RMSE: 8.164025454610773\n"
     ]
    }
   ],
   "source": [
    "splits = 12\n",
    "stf = StratifiedKFold(n_splits=splits, shuffle=True)\n",
    "oof= np.zeros((X.shape[0],))\n",
    "prediction = 0\n",
    "model_fi = 0\n",
    "total_mean_rmse = 0\n",
    "\n",
    "for num, (train_id, valid_id) in enumerate(stf.split(X, y)):\n",
    "    X_train, X_valid = X.loc[train_id], X.loc[valid_id]\n",
    "    y_train, y_valid = y.loc[train_id], y.loc[valid_id]\n",
    "    \n",
    "    model = LGBMRegressor()\n",
    "    model.fit(X_train, y_train,\n",
    "              eval_set=[(X_train, y_train), (X_valid, y_valid)], verbose=0)\n",
    "    \n",
    "    prediction += model.predict(test) / splits\n",
    "    oof[valid_id] = model.predict(X_valid)\n",
    "    oof[oof < 0] = 0\n",
    "\n",
    "    fold_rmse = np.sqrt(mean_squared_error(y_valid, oof[valid_id]))\n",
    "    print(f\"Fold {num} RMSE: {fold_rmse}\")"
   ]
  },
  {
   "cell_type": "markdown",
   "id": "1197cb75",
   "metadata": {},
   "source": [
    "## Tune with optuna"
   ]
  },
  {
   "cell_type": "code",
   "execution_count": 87,
   "id": "54d09a0e",
   "metadata": {},
   "outputs": [],
   "source": [
    "def objective(trial, data =X, target =y):\n",
    "    \n",
    "    param = {\n",
    "            'boosting_type': 'goss',\n",
    "            'max_depth': trial.suggest_int('max_depth', 6, 12),\n",
    "            'learning_rate': trial.suggest_float('learning_rate', 0.007, 0.013),\n",
    "            'n_estimators': trial.suggest_int('n_estimators', 400, 4000, 400),\n",
    "            'min_child_weight': trial.suggest_int('min_child_weight', 5, 20),\n",
    "            'subsample': trial.suggest_discrete_uniform('subsample', 0.5, 0.9, 0.1),\n",
    "            'colsample_bytree': trial.suggest_discrete_uniform('colsample_bytree', 0.5, 0.9, 0.1),\n",
    "            'reg_alpha': trial.suggest_int('reg_alpha', 0, 50),\n",
    "            'reg_lambda': trial.suggest_int('reg_lambda', 1, 50),\n",
    "            'n_jobs': 4,\n",
    "        }\n",
    "\n",
    "# Use cross_val_score for cross validation\n",
    "#    splits = 12\n",
    "#    stf = StratifiedKFold(n_splits=splits, shuffle=True)\n",
    "#    model = XGBRegressor(**param)\n",
    "#    mse = cross_val_score(model, X, y, cv= stf, scoring =\"neg_root_mean_squared_error\")\n",
    "#    return mse.mean()    \n",
    "\n",
    "\n",
    "    train_x, test_x, train_y, test_y = train_test_split(data, target, test_size=0.15,random_state=42)\n",
    "\n",
    "    model = LGBMRegressor(**param)   \n",
    "    model.fit(train_x, train_y, eval_set=[(test_x, test_y)],\n",
    "              early_stopping_rounds=100, verbose=False)\n",
    "    \n",
    "    preds = model.predict(test_x)\n",
    "    rmse = mean_squared_error(test_y, preds,squared=False)\n",
    "    return rmse"
   ]
  },
  {
   "cell_type": "code",
   "execution_count": 88,
   "id": "64d56fc2-cd0f-482e-b30b-a32c4c4fb51c",
   "metadata": {},
   "outputs": [
    {
     "name": "stdout",
     "output_type": "stream",
     "text": [
      "Number of finished trials: 2\n"
     ]
    },
    {
     "data": {
      "text/plain": [
       "FrozenTrial(number=0, values=[7.587008597765351], datetime_start=datetime.datetime(2021, 8, 21, 16, 14, 1, 6318), datetime_complete=datetime.datetime(2021, 8, 21, 16, 14, 2, 738649), params={'max_depth': 7, 'learning_rate': 0.012471233558211208, 'n_estimators': 1200, 'min_child_weight': 13, 'subsample': 0.7, 'colsample_bytree': 0.9, 'reg_alpha': 39, 'reg_lambda': 25}, distributions={'max_depth': IntUniformDistribution(high=12, low=6, step=1), 'learning_rate': UniformDistribution(high=0.013, low=0.007), 'n_estimators': IntUniformDistribution(high=4000, low=400, step=400), 'min_child_weight': IntUniformDistribution(high=20, low=5, step=1), 'subsample': DiscreteUniformDistribution(high=0.9, low=0.5, q=0.1), 'colsample_bytree': DiscreteUniformDistribution(high=0.9, low=0.5, q=0.1), 'reg_alpha': IntUniformDistribution(high=50, low=0, step=1), 'reg_lambda': IntUniformDistribution(high=50, low=1, step=1)}, user_attrs={}, system_attrs={}, intermediate_values={}, trial_id=0, state=TrialState.COMPLETE, value=None)"
      ]
     },
     "execution_count": 88,
     "metadata": {},
     "output_type": "execute_result"
    },
    {
     "data": {
      "text/plain": [
       "[7.587008597765351]"
      ]
     },
     "execution_count": 88,
     "metadata": {},
     "output_type": "execute_result"
    },
    {
     "data": {
      "text/plain": [
       "{'max_depth': 7,\n",
       " 'learning_rate': 0.012471233558211208,\n",
       " 'n_estimators': 1200,\n",
       " 'min_child_weight': 13,\n",
       " 'subsample': 0.7,\n",
       " 'colsample_bytree': 0.9,\n",
       " 'reg_alpha': 39,\n",
       " 'reg_lambda': 25}"
      ]
     },
     "execution_count": 88,
     "metadata": {},
     "output_type": "execute_result"
    }
   ],
   "source": [
    "study = optuna.create_study(direction='minimize')\n",
    "study.optimize(objective, n_trials=2)\n",
    "print('Number of finished trials:', len(study.trials))\n",
    "study.best_trial\n",
    "study.best_trial.values\n",
    "study.best_trial.params"
   ]
  },
  {
   "cell_type": "code",
   "execution_count": 70,
   "id": "a9214706-8bbe-4797-b3da-0118222be0db",
   "metadata": {},
   "outputs": [
    {
     "ename": "TypeError",
     "evalue": "argument of type 'int' is not iterable",
     "output_type": "error",
     "traceback": [
      "\u001b[1;31m---------------------------------------------------------------------------\u001b[0m",
      "\u001b[1;31mTypeError\u001b[0m                                 Traceback (most recent call last)",
      "\u001b[1;32m<ipython-input-70-24fa54bc3f29>\u001b[0m in \u001b[0;36m<module>\u001b[1;34m\u001b[0m\n\u001b[1;32m----> 1\u001b[1;33m \u001b[0mstudy\u001b[0m\u001b[1;33m.\u001b[0m\u001b[0mtrials_dataframe\u001b[0m\u001b[1;33m(\u001b[0m\u001b[1;36m5\u001b[0m\u001b[1;33m)\u001b[0m\u001b[1;33m\u001b[0m\u001b[1;33m\u001b[0m\u001b[0m\n\u001b[0m",
      "\u001b[1;32m~\\anaconda3\\lib\\site-packages\\optuna\\study\\study.py\u001b[0m in \u001b[0;36mtrials_dataframe\u001b[1;34m(self, attrs, multi_index)\u001b[0m\n\u001b[0;32m    779\u001b[0m             \u001b[0mreplaced\u001b[0m \u001b[1;32mwith\u001b[0m\u001b[0;31m \u001b[0m\u001b[0;31m`\u001b[0m\u001b[0;31m`\u001b[0m\u001b[0mvalues\u001b[0m\u001b[0;31m`\u001b[0m\u001b[0;31m`\u001b[0m\u001b[1;33m.\u001b[0m\u001b[1;33m\u001b[0m\u001b[1;33m\u001b[0m\u001b[0m\n\u001b[0;32m    780\u001b[0m         \"\"\"\n\u001b[1;32m--> 781\u001b[1;33m         \u001b[1;32mreturn\u001b[0m \u001b[0m_trials_dataframe\u001b[0m\u001b[1;33m(\u001b[0m\u001b[0mself\u001b[0m\u001b[1;33m,\u001b[0m \u001b[0mattrs\u001b[0m\u001b[1;33m,\u001b[0m \u001b[0mmulti_index\u001b[0m\u001b[1;33m)\u001b[0m\u001b[1;33m\u001b[0m\u001b[1;33m\u001b[0m\u001b[0m\n\u001b[0m\u001b[0;32m    782\u001b[0m \u001b[1;33m\u001b[0m\u001b[0m\n\u001b[0;32m    783\u001b[0m     \u001b[1;32mdef\u001b[0m \u001b[0mstop\u001b[0m\u001b[1;33m(\u001b[0m\u001b[0mself\u001b[0m\u001b[1;33m)\u001b[0m \u001b[1;33m->\u001b[0m \u001b[1;32mNone\u001b[0m\u001b[1;33m:\u001b[0m\u001b[1;33m\u001b[0m\u001b[1;33m\u001b[0m\u001b[0m\n",
      "\u001b[1;32m~\\anaconda3\\lib\\site-packages\\optuna\\study\\_dataframe.py\u001b[0m in \u001b[0;36m_trials_dataframe\u001b[1;34m(study, attrs, multi_index)\u001b[0m\n\u001b[0;32m     32\u001b[0m         \u001b[1;32mreturn\u001b[0m \u001b[0mpd\u001b[0m\u001b[1;33m.\u001b[0m\u001b[0mDataFrame\u001b[0m\u001b[1;33m(\u001b[0m\u001b[1;33m)\u001b[0m\u001b[1;33m\u001b[0m\u001b[1;33m\u001b[0m\u001b[0m\n\u001b[0;32m     33\u001b[0m \u001b[1;33m\u001b[0m\u001b[0m\n\u001b[1;32m---> 34\u001b[1;33m     \u001b[1;32mif\u001b[0m \u001b[1;34m\"value\"\u001b[0m \u001b[1;32min\u001b[0m \u001b[0mattrs\u001b[0m \u001b[1;32mand\u001b[0m \u001b[0mstudy\u001b[0m\u001b[1;33m.\u001b[0m\u001b[0m_is_multi_objective\u001b[0m\u001b[1;33m(\u001b[0m\u001b[1;33m)\u001b[0m\u001b[1;33m:\u001b[0m\u001b[1;33m\u001b[0m\u001b[1;33m\u001b[0m\u001b[0m\n\u001b[0m\u001b[0;32m     35\u001b[0m         \u001b[0mattrs\u001b[0m \u001b[1;33m=\u001b[0m \u001b[0mtuple\u001b[0m\u001b[1;33m(\u001b[0m\u001b[1;34m\"values\"\u001b[0m \u001b[1;32mif\u001b[0m \u001b[0mattr\u001b[0m \u001b[1;33m==\u001b[0m \u001b[1;34m\"value\"\u001b[0m \u001b[1;32melse\u001b[0m \u001b[0mattr\u001b[0m \u001b[1;32mfor\u001b[0m \u001b[0mattr\u001b[0m \u001b[1;32min\u001b[0m \u001b[0mattrs\u001b[0m\u001b[1;33m)\u001b[0m\u001b[1;33m\u001b[0m\u001b[1;33m\u001b[0m\u001b[0m\n\u001b[0;32m     36\u001b[0m \u001b[1;33m\u001b[0m\u001b[0m\n",
      "\u001b[1;31mTypeError\u001b[0m: argument of type 'int' is not iterable"
     ]
    }
   ],
   "source": [
    "study.trials_dataframe()"
   ]
  },
  {
   "cell_type": "code",
   "execution_count": 72,
   "id": "4f5d7b4c-53fb-4bf2-adae-abf76cf83c36",
   "metadata": {},
   "outputs": [
    {
     "ename": "ImportError",
     "evalue": "Tried to import 'plotly' but failed. Please make sure that the package is installed correctly to use this feature. Actual error: No module named 'plotly'.",
     "output_type": "error",
     "traceback": [
      "\u001b[1;31m---------------------------------------------------------------------------\u001b[0m",
      "\u001b[1;31mModuleNotFoundError\u001b[0m                       Traceback (most recent call last)",
      "\u001b[1;32m~\\anaconda3\\lib\\site-packages\\optuna\\visualization\\_plotly_imports.py\u001b[0m in \u001b[0;36m<module>\u001b[1;34m\u001b[0m\n\u001b[0;32m      6\u001b[0m \u001b[1;32mwith\u001b[0m \u001b[0mtry_import\u001b[0m\u001b[1;33m(\u001b[0m\u001b[1;33m)\u001b[0m \u001b[1;32mas\u001b[0m \u001b[0m_imports\u001b[0m\u001b[1;33m:\u001b[0m  \u001b[1;31m# NOQA\u001b[0m\u001b[1;33m\u001b[0m\u001b[1;33m\u001b[0m\u001b[0m\n\u001b[1;32m----> 7\u001b[1;33m     \u001b[1;32mimport\u001b[0m \u001b[0mplotly\u001b[0m  \u001b[1;31m# NOQA\u001b[0m\u001b[1;33m\u001b[0m\u001b[1;33m\u001b[0m\u001b[0m\n\u001b[0m\u001b[0;32m      8\u001b[0m     \u001b[1;32mfrom\u001b[0m \u001b[0mplotly\u001b[0m \u001b[1;32mimport\u001b[0m \u001b[0m__version__\u001b[0m \u001b[1;32mas\u001b[0m \u001b[0mplotly_version\u001b[0m\u001b[1;33m\u001b[0m\u001b[1;33m\u001b[0m\u001b[0m\n",
      "\u001b[1;31mModuleNotFoundError\u001b[0m: No module named 'plotly'",
      "\nThe above exception was the direct cause of the following exception:\n",
      "\u001b[1;31mImportError\u001b[0m                               Traceback (most recent call last)",
      "\u001b[1;32m<ipython-input-72-0f4dfd25c2ee>\u001b[0m in \u001b[0;36m<module>\u001b[1;34m\u001b[0m\n\u001b[0;32m      1\u001b[0m \u001b[1;31m#plot_optimization_history: shows the scores from all trials as well as the best score so far at each point.\u001b[0m\u001b[1;33m\u001b[0m\u001b[1;33m\u001b[0m\u001b[1;33m\u001b[0m\u001b[0m\n\u001b[1;32m----> 2\u001b[1;33m \u001b[0moptuna\u001b[0m\u001b[1;33m.\u001b[0m\u001b[0mvisualization\u001b[0m\u001b[1;33m.\u001b[0m\u001b[0mplot_optimization_history\u001b[0m\u001b[1;33m(\u001b[0m\u001b[0mstudy\u001b[0m\u001b[1;33m)\u001b[0m\u001b[1;33m\u001b[0m\u001b[1;33m\u001b[0m\u001b[0m\n\u001b[0m\u001b[0;32m      3\u001b[0m \u001b[1;33m\u001b[0m\u001b[0m\n\u001b[0;32m      4\u001b[0m \u001b[1;31m#plot_parallel_coordinate: interactively visualizes the hyperparameters and scores\u001b[0m\u001b[1;33m\u001b[0m\u001b[1;33m\u001b[0m\u001b[1;33m\u001b[0m\u001b[0m\n\u001b[0;32m      5\u001b[0m \u001b[0moptuna\u001b[0m\u001b[1;33m.\u001b[0m\u001b[0mvisualization\u001b[0m\u001b[1;33m.\u001b[0m\u001b[0mplot_parallel_coordinate\u001b[0m\u001b[1;33m(\u001b[0m\u001b[0mstudy\u001b[0m\u001b[1;33m)\u001b[0m\u001b[1;33m\u001b[0m\u001b[1;33m\u001b[0m\u001b[0m\n",
      "\u001b[1;32m~\\anaconda3\\lib\\site-packages\\optuna\\visualization\\_optimization_history.py\u001b[0m in \u001b[0;36mplot_optimization_history\u001b[1;34m(study, target, target_name)\u001b[0m\n\u001b[0;32m     71\u001b[0m     \"\"\"\n\u001b[0;32m     72\u001b[0m \u001b[1;33m\u001b[0m\u001b[0m\n\u001b[1;32m---> 73\u001b[1;33m     \u001b[0m_imports\u001b[0m\u001b[1;33m.\u001b[0m\u001b[0mcheck\u001b[0m\u001b[1;33m(\u001b[0m\u001b[1;33m)\u001b[0m\u001b[1;33m\u001b[0m\u001b[1;33m\u001b[0m\u001b[0m\n\u001b[0m\u001b[0;32m     74\u001b[0m     \u001b[0m_check_plot_args\u001b[0m\u001b[1;33m(\u001b[0m\u001b[0mstudy\u001b[0m\u001b[1;33m,\u001b[0m \u001b[0mtarget\u001b[0m\u001b[1;33m,\u001b[0m \u001b[0mtarget_name\u001b[0m\u001b[1;33m)\u001b[0m\u001b[1;33m\u001b[0m\u001b[1;33m\u001b[0m\u001b[0m\n\u001b[0;32m     75\u001b[0m     \u001b[1;32mreturn\u001b[0m \u001b[0m_get_optimization_history_plot\u001b[0m\u001b[1;33m(\u001b[0m\u001b[0mstudy\u001b[0m\u001b[1;33m,\u001b[0m \u001b[0mtarget\u001b[0m\u001b[1;33m,\u001b[0m \u001b[0mtarget_name\u001b[0m\u001b[1;33m)\u001b[0m\u001b[1;33m\u001b[0m\u001b[1;33m\u001b[0m\u001b[0m\n",
      "\u001b[1;32m~\\anaconda3\\lib\\site-packages\\optuna\\_imports.py\u001b[0m in \u001b[0;36mcheck\u001b[1;34m(self)\u001b[0m\n\u001b[0;32m     84\u001b[0m         \u001b[1;32mif\u001b[0m \u001b[0mself\u001b[0m\u001b[1;33m.\u001b[0m\u001b[0m_deferred\u001b[0m \u001b[1;32mis\u001b[0m \u001b[1;32mnot\u001b[0m \u001b[1;32mNone\u001b[0m\u001b[1;33m:\u001b[0m\u001b[1;33m\u001b[0m\u001b[1;33m\u001b[0m\u001b[0m\n\u001b[0;32m     85\u001b[0m             \u001b[0mexc_value\u001b[0m\u001b[1;33m,\u001b[0m \u001b[0mmessage\u001b[0m \u001b[1;33m=\u001b[0m \u001b[0mself\u001b[0m\u001b[1;33m.\u001b[0m\u001b[0m_deferred\u001b[0m\u001b[1;33m\u001b[0m\u001b[1;33m\u001b[0m\u001b[0m\n\u001b[1;32m---> 86\u001b[1;33m             \u001b[1;32mraise\u001b[0m \u001b[0mImportError\u001b[0m\u001b[1;33m(\u001b[0m\u001b[0mmessage\u001b[0m\u001b[1;33m)\u001b[0m \u001b[1;32mfrom\u001b[0m \u001b[0mexc_value\u001b[0m\u001b[1;33m\u001b[0m\u001b[1;33m\u001b[0m\u001b[0m\n\u001b[0m\u001b[0;32m     87\u001b[0m \u001b[1;33m\u001b[0m\u001b[0m\n\u001b[0;32m     88\u001b[0m \u001b[1;33m\u001b[0m\u001b[0m\n",
      "\u001b[1;31mImportError\u001b[0m: Tried to import 'plotly' but failed. Please make sure that the package is installed correctly to use this feature. Actual error: No module named 'plotly'."
     ]
    }
   ],
   "source": [
    "#plot_optimization_history: shows the scores from all trials as well as the best score so far at each point.\n",
    "optuna.visualization.plot_optimization_history(study)\n",
    "\n",
    "#plot_parallel_coordinate: interactively visualizes the hyperparameters and scores\n",
    "optuna.visualization.plot_parallel_coordinate(study)\n",
    "\n",
    "#plot_slice: shows the evolution of the search. You can see where in the hyperparameter space your search\n",
    "# went and which parts of the space were explored more\n",
    "optuna.visualization.plot_slice(study)\n",
    "\n",
    "#plot_contour: plots parameter interactions on an interactive chart. \n",
    "# You can choose which hyperparameters you would like to explore.\n",
    "optuna.visualization.plot_contour(study, params=['alpha',\n",
    "                            #'max_depth',\n",
    "                            'lambda',\n",
    "                            'subsample',\n",
    "                            'learning_rate',\n",
    "                            'subsample'])\n",
    "\n",
    "#Visualize parameter importances.\n",
    "optuna.visualization.plot_param_importances(study)\n",
    "\n",
    "#Visualize empirical distribution function\n",
    "optuna.visualization.plot_edf(study)"
   ]
  },
  {
   "cell_type": "code",
   "execution_count": 90,
   "id": "f134d230-8691-4a9d-9e04-b8bfdc64e736",
   "metadata": {},
   "outputs": [
    {
     "ename": "NameError",
     "evalue": "name 'columns' is not defined",
     "output_type": "error",
     "traceback": [
      "\u001b[1;31m---------------------------------------------------------------------------\u001b[0m",
      "\u001b[1;31mNameError\u001b[0m                                 Traceback (most recent call last)",
      "\u001b[1;32m<ipython-input-90-78e88f688678>\u001b[0m in \u001b[0;36m<module>\u001b[1;34m\u001b[0m\n\u001b[0;32m      6\u001b[0m \u001b[0mrmse\u001b[0m\u001b[1;33m=\u001b[0m\u001b[1;33m[\u001b[0m\u001b[1;33m]\u001b[0m  \u001b[1;31m# list contains rmse for each fold\u001b[0m\u001b[1;33m\u001b[0m\u001b[1;33m\u001b[0m\u001b[0m\n\u001b[0;32m      7\u001b[0m \u001b[0mn\u001b[0m\u001b[1;33m=\u001b[0m\u001b[1;36m0\u001b[0m\u001b[1;33m\u001b[0m\u001b[1;33m\u001b[0m\u001b[0m\n\u001b[1;32m----> 8\u001b[1;33m \u001b[1;32mfor\u001b[0m \u001b[0mtrn_idx\u001b[0m\u001b[1;33m,\u001b[0m \u001b[0mtest_idx\u001b[0m \u001b[1;32min\u001b[0m \u001b[0mkf\u001b[0m\u001b[1;33m.\u001b[0m\u001b[0msplit\u001b[0m\u001b[1;33m(\u001b[0m\u001b[0mtrain\u001b[0m\u001b[1;33m[\u001b[0m\u001b[0mcolumns\u001b[0m\u001b[1;33m]\u001b[0m\u001b[1;33m,\u001b[0m\u001b[0mtrain\u001b[0m\u001b[1;33m[\u001b[0m\u001b[1;34m'target'\u001b[0m\u001b[1;33m]\u001b[0m\u001b[1;33m)\u001b[0m\u001b[1;33m:\u001b[0m\u001b[1;33m\u001b[0m\u001b[1;33m\u001b[0m\u001b[0m\n\u001b[0m\u001b[0;32m      9\u001b[0m     \u001b[0mX_tr\u001b[0m\u001b[1;33m,\u001b[0m\u001b[0mX_val\u001b[0m\u001b[1;33m=\u001b[0m\u001b[0mtrain\u001b[0m\u001b[1;33m[\u001b[0m\u001b[0mcolumns\u001b[0m\u001b[1;33m]\u001b[0m\u001b[1;33m.\u001b[0m\u001b[0miloc\u001b[0m\u001b[1;33m[\u001b[0m\u001b[0mtrn_idx\u001b[0m\u001b[1;33m]\u001b[0m\u001b[1;33m,\u001b[0m\u001b[0mtrain\u001b[0m\u001b[1;33m[\u001b[0m\u001b[0mcolumns\u001b[0m\u001b[1;33m]\u001b[0m\u001b[1;33m.\u001b[0m\u001b[0miloc\u001b[0m\u001b[1;33m[\u001b[0m\u001b[0mtest_idx\u001b[0m\u001b[1;33m]\u001b[0m\u001b[1;33m\u001b[0m\u001b[1;33m\u001b[0m\u001b[0m\n\u001b[0;32m     10\u001b[0m     \u001b[0my_tr\u001b[0m\u001b[1;33m,\u001b[0m\u001b[0my_val\u001b[0m\u001b[1;33m=\u001b[0m\u001b[0mtrain\u001b[0m\u001b[1;33m[\u001b[0m\u001b[1;34m'target'\u001b[0m\u001b[1;33m]\u001b[0m\u001b[1;33m.\u001b[0m\u001b[0miloc\u001b[0m\u001b[1;33m[\u001b[0m\u001b[0mtrn_idx\u001b[0m\u001b[1;33m]\u001b[0m\u001b[1;33m,\u001b[0m\u001b[0mtrain\u001b[0m\u001b[1;33m[\u001b[0m\u001b[1;34m'target'\u001b[0m\u001b[1;33m]\u001b[0m\u001b[1;33m.\u001b[0m\u001b[0miloc\u001b[0m\u001b[1;33m[\u001b[0m\u001b[0mtest_idx\u001b[0m\u001b[1;33m]\u001b[0m\u001b[1;33m\u001b[0m\u001b[1;33m\u001b[0m\u001b[0m\n",
      "\u001b[1;31mNameError\u001b[0m: name 'columns' is not defined"
     ]
    }
   ],
   "source": [
    "Best_trial= study.best_trial.params\n",
    "\n",
    "\n",
    "preds = np.zeros(test.shape[0])\n",
    "kf = StratifiedKFold(n_splits=5,random_state=48,shuffle=True)\n",
    "rmse=[]  # list contains rmse for each fold\n",
    "n=0\n",
    "for trn_idx, test_idx in kf.split(train[columns],train['target']):\n",
    "    X_tr,X_val=train[columns].iloc[trn_idx],train[columns].iloc[test_idx]\n",
    "    y_tr,y_val=train['target'].iloc[trn_idx],train['target'].iloc[test_idx]\n",
    "    model = LGBMRegressor(**Best_trial)\n",
    "    model.fit(X_tr,y_tr,eval_set=[(X_val,y_val)],early_stopping_rounds=100,verbose=False)\n",
    "    preds+=model.predict(test[columns])/kf.n_splits\n",
    "    rmse.append(mean_squared_error(y_val, model.predict(X_val), squared=False))\n",
    "    print(n+1,rmse[n])\n",
    "    n+=1\n",
    "\n",
    "\n",
    "np.mean(rmse)"
   ]
  },
  {
   "cell_type": "markdown",
   "id": "b761d7d8-e5e2-4820-86ed-d4a40ff19feb",
   "metadata": {
    "tags": []
   },
   "source": [
    "# Google AutoML"
   ]
  },
  {
   "cell_type": "code",
   "execution_count": null,
   "id": "33f74b46-0949-4676-abab-8292700d410f",
   "metadata": {},
   "outputs": [],
   "source": []
  },
  {
   "cell_type": "markdown",
   "id": "291b6ffa-ec5d-4ecf-ab30-b25a0e2fb506",
   "metadata": {},
   "source": [
    "# Azure AutoML"
   ]
  },
  {
   "cell_type": "code",
   "execution_count": null,
   "id": "c72ab678-1e56-4929-a885-e6a9dc74d5fa",
   "metadata": {},
   "outputs": [],
   "source": []
  },
  {
   "cell_type": "markdown",
   "id": "50fe7622-e0ba-4353-abe7-ec2b31cd4cc3",
   "metadata": {},
   "source": [
    "# H2O AutoML"
   ]
  },
  {
   "cell_type": "code",
   "execution_count": null,
   "id": "c6d653d1-8842-48c1-9edb-90bfcb4166dd",
   "metadata": {},
   "outputs": [],
   "source": [
    "https://www.kaggle.com/keenborder/h20-automl-vs-boosting-models"
   ]
  },
  {
   "cell_type": "code",
   "execution_count": 24,
   "id": "a5ef9cf0-ac36-424c-9cc0-0c94d188f965",
   "metadata": {},
   "outputs": [],
   "source": [
    "import h2o\n",
    "from h2o.automl import H2OAutoML"
   ]
  },
  {
   "cell_type": "code",
   "execution_count": 26,
   "id": "c13dd67f-7624-4c4a-a9b5-5bdd3f116ed8",
   "metadata": {},
   "outputs": [
    {
     "name": "stdout",
     "output_type": "stream",
     "text": [
      "Checking whether there is an H2O instance running at http://localhost:54321 ..... not found.\n",
      "Attempting to start a local H2O server...\n",
      "; OpenJDK 64-Bit Server VM (build 11.0.6+8-b765.1, mixed mode)\n",
      "  Starting server from C:\\Users\\Frank\\anaconda3\\Lib\\site-packages\\h2o\\backend\\bin\\h2o.jar\n",
      "  Ice root: C:\\Users\\Frank\\AppData\\Local\\Temp\\tmpnfa_reah\n",
      "  JVM stdout: C:\\Users\\Frank\\AppData\\Local\\Temp\\tmpnfa_reah\\h2o_Frank_started_from_python.out\n",
      "  JVM stderr: C:\\Users\\Frank\\AppData\\Local\\Temp\\tmpnfa_reah\\h2o_Frank_started_from_python.err\n",
      "  Server is running at http://127.0.0.1:54321\n",
      "Connecting to H2O server at http://127.0.0.1:54321 ... successful.\n"
     ]
    },
    {
     "data": {
      "text/html": [
       "<div style=\"overflow:auto\"><table style=\"width:50%\"><tr><td>H2O_cluster_uptime:</td>\n",
       "<td>03 secs</td></tr>\n",
       "<tr><td>H2O_cluster_timezone:</td>\n",
       "<td>America/Chicago</td></tr>\n",
       "<tr><td>H2O_data_parsing_timezone:</td>\n",
       "<td>UTC</td></tr>\n",
       "<tr><td>H2O_cluster_version:</td>\n",
       "<td>3.32.1.6</td></tr>\n",
       "<tr><td>H2O_cluster_version_age:</td>\n",
       "<td>1 day </td></tr>\n",
       "<tr><td>H2O_cluster_name:</td>\n",
       "<td>H2O_from_python_Frank_ua5c63</td></tr>\n",
       "<tr><td>H2O_cluster_total_nodes:</td>\n",
       "<td>1</td></tr>\n",
       "<tr><td>H2O_cluster_free_memory:</td>\n",
       "<td>3.967 Gb</td></tr>\n",
       "<tr><td>H2O_cluster_total_cores:</td>\n",
       "<td>4</td></tr>\n",
       "<tr><td>H2O_cluster_allowed_cores:</td>\n",
       "<td>4</td></tr>\n",
       "<tr><td>H2O_cluster_status:</td>\n",
       "<td>accepting new members, healthy</td></tr>\n",
       "<tr><td>H2O_connection_url:</td>\n",
       "<td>http://127.0.0.1:54321</td></tr>\n",
       "<tr><td>H2O_connection_proxy:</td>\n",
       "<td>{\"http\": null, \"https\": null}</td></tr>\n",
       "<tr><td>H2O_internal_security:</td>\n",
       "<td>False</td></tr>\n",
       "<tr><td>H2O_API_Extensions:</td>\n",
       "<td>Amazon S3, Algos, AutoML, Core V3, TargetEncoder, Core V4</td></tr>\n",
       "<tr><td>Python_version:</td>\n",
       "<td>3.8.8 final</td></tr></table></div>"
      ],
      "text/plain": [
       "--------------------------  ---------------------------------------------------------\n",
       "H2O_cluster_uptime:         03 secs\n",
       "H2O_cluster_timezone:       America/Chicago\n",
       "H2O_data_parsing_timezone:  UTC\n",
       "H2O_cluster_version:        3.32.1.6\n",
       "H2O_cluster_version_age:    1 day\n",
       "H2O_cluster_name:           H2O_from_python_Frank_ua5c63\n",
       "H2O_cluster_total_nodes:    1\n",
       "H2O_cluster_free_memory:    3.967 Gb\n",
       "H2O_cluster_total_cores:    4\n",
       "H2O_cluster_allowed_cores:  4\n",
       "H2O_cluster_status:         accepting new members, healthy\n",
       "H2O_connection_url:         http://127.0.0.1:54321\n",
       "H2O_connection_proxy:       {\"http\": null, \"https\": null}\n",
       "H2O_internal_security:      False\n",
       "H2O_API_Extensions:         Amazon S3, Algos, AutoML, Core V3, TargetEncoder, Core V4\n",
       "Python_version:             3.8.8 final\n",
       "--------------------------  ---------------------------------------------------------"
      ]
     },
     "metadata": {},
     "output_type": "display_data"
    }
   ],
   "source": [
    "h2o.init()"
   ]
  },
  {
   "cell_type": "code",
   "execution_count": 27,
   "id": "5f0464ee-b984-4920-8723-a6e472187d10",
   "metadata": {},
   "outputs": [
    {
     "name": "stdout",
     "output_type": "stream",
     "text": [
      "Parse progress: |█████████████████████████████████████████████████████████| 100%\n",
      "Parse progress: |█████████████████████████████████████████████████████████| 100%\n"
     ]
    }
   ],
   "source": [
    "train = h2o.import_file(\"train.csv\")\n",
    "test = h2o.import_file(\"test.csv\")"
   ]
  },
  {
   "cell_type": "code",
   "execution_count": 28,
   "id": "35827145-c82f-40ee-be0e-98771b6f51d4",
   "metadata": {},
   "outputs": [],
   "source": [
    "x = train.columns\n",
    "y = \"loss\"\n",
    "x.remove(y)\n",
    "x.remove(\"id\")"
   ]
  },
  {
   "cell_type": "code",
   "execution_count": 29,
   "id": "0da90372-888d-4971-a942-008b4a8261ec",
   "metadata": {},
   "outputs": [
    {
     "name": "stdout",
     "output_type": "stream",
     "text": [
      "AutoML progress: |\n",
      "12:13:41.486: AutoML: XGBoost is not available; skipping it.\n",
      "\n",
      "████████████████████████████████████████████████████████| 100%\n"
     ]
    }
   ],
   "source": [
    "# Run AutoML for 20 base models (limited to 1 hour max runtime by default)\n",
    "aml = H2OAutoML(max_models=20, seed=1,max_runtime_secs = 600)\n",
    "aml.train(x=x, y=y, training_frame=train)"
   ]
  },
  {
   "cell_type": "code",
   "execution_count": 31,
   "id": "de3f2984-74af-41d2-8c45-d90535c0ab1c",
   "metadata": {},
   "outputs": [
    {
     "data": {
      "text/html": [
       "<table>\n",
       "<thead>\n",
       "<tr><th>model_id                                           </th><th style=\"text-align: right;\">  mean_residual_deviance</th><th style=\"text-align: right;\">   rmse</th><th style=\"text-align: right;\">    mse</th><th style=\"text-align: right;\">    mae</th><th style=\"text-align: right;\">    rmsle</th></tr>\n",
       "</thead>\n",
       "<tbody>\n",
       "<tr><td>StackedEnsemble_AllModels_AutoML_20210821_121341   </td><td style=\"text-align: right;\">                 62.0613</td><td style=\"text-align: right;\">7.8779 </td><td style=\"text-align: right;\">62.0613</td><td style=\"text-align: right;\">6.13602</td><td style=\"text-align: right;\">  1.21911</td></tr>\n",
       "<tr><td>StackedEnsemble_BestOfFamily_AutoML_20210821_121341</td><td style=\"text-align: right;\">                 62.0829</td><td style=\"text-align: right;\">7.87927</td><td style=\"text-align: right;\">62.0829</td><td style=\"text-align: right;\">6.13723</td><td style=\"text-align: right;\">  1.21944</td></tr>\n",
       "<tr><td>GLM_1_AutoML_20210821_121341                       </td><td style=\"text-align: right;\">                 62.3718</td><td style=\"text-align: right;\">7.89758</td><td style=\"text-align: right;\">62.3718</td><td style=\"text-align: right;\">6.15479</td><td style=\"text-align: right;\">  1.22392</td></tr>\n",
       "<tr><td>GBM_grid__1_AutoML_20210821_121341_model_1         </td><td style=\"text-align: right;\">                 62.4021</td><td style=\"text-align: right;\">7.8995 </td><td style=\"text-align: right;\">62.4021</td><td style=\"text-align: right;\">6.16299</td><td style=\"text-align: right;\">  1.22616</td></tr>\n",
       "<tr><td>GBM_2_AutoML_20210821_121341                       </td><td style=\"text-align: right;\">                 62.6627</td><td style=\"text-align: right;\">7.91598</td><td style=\"text-align: right;\">62.6627</td><td style=\"text-align: right;\">6.17674</td><td style=\"text-align: right;\">  1.22911</td></tr>\n",
       "<tr><td>GBM_1_AutoML_20210821_121341                       </td><td style=\"text-align: right;\">                 62.6875</td><td style=\"text-align: right;\">7.91754</td><td style=\"text-align: right;\">62.6875</td><td style=\"text-align: right;\">6.17848</td><td style=\"text-align: right;\">  1.22942</td></tr>\n",
       "<tr><td>GBM_3_AutoML_20210821_121341                       </td><td style=\"text-align: right;\">                 62.6956</td><td style=\"text-align: right;\">7.91806</td><td style=\"text-align: right;\">62.6956</td><td style=\"text-align: right;\">6.17842</td><td style=\"text-align: right;\">  1.22937</td></tr>\n",
       "<tr><td>GBM_4_AutoML_20210821_121341                       </td><td style=\"text-align: right;\">                 62.7278</td><td style=\"text-align: right;\">7.92009</td><td style=\"text-align: right;\">62.7278</td><td style=\"text-align: right;\">6.17915</td><td style=\"text-align: right;\">  1.22946</td></tr>\n",
       "<tr><td>DeepLearning_1_AutoML_20210821_121341              </td><td style=\"text-align: right;\">                 62.743 </td><td style=\"text-align: right;\">7.92105</td><td style=\"text-align: right;\">62.743 </td><td style=\"text-align: right;\">6.10688</td><td style=\"text-align: right;\">  1.21273</td></tr>\n",
       "<tr><td>GBM_5_AutoML_20210821_121341                       </td><td style=\"text-align: right;\">                 62.7709</td><td style=\"text-align: right;\">7.92281</td><td style=\"text-align: right;\">62.7709</td><td style=\"text-align: right;\">6.18116</td><td style=\"text-align: right;\">  1.22987</td></tr>\n",
       "<tr><td>DeepLearning_grid__2_AutoML_20210821_121341_model_1</td><td style=\"text-align: right;\">                 62.7958</td><td style=\"text-align: right;\">7.92438</td><td style=\"text-align: right;\">62.7958</td><td style=\"text-align: right;\">6.20063</td><td style=\"text-align: right;\">  1.23385</td></tr>\n",
       "<tr><td>GBM_grid__1_AutoML_20210821_121341_model_3         </td><td style=\"text-align: right;\">                 62.8898</td><td style=\"text-align: right;\">7.93031</td><td style=\"text-align: right;\">62.8898</td><td style=\"text-align: right;\">6.18889</td><td style=\"text-align: right;\">  1.23167</td></tr>\n",
       "<tr><td>GBM_grid__1_AutoML_20210821_121341_model_2         </td><td style=\"text-align: right;\">                 63.2321</td><td style=\"text-align: right;\">7.95186</td><td style=\"text-align: right;\">63.2321</td><td style=\"text-align: right;\">6.20031</td><td style=\"text-align: right;\">  1.2282 </td></tr>\n",
       "<tr><td>DeepLearning_grid__1_AutoML_20210821_121341_model_1</td><td style=\"text-align: right;\">                 64.1887</td><td style=\"text-align: right;\">8.01179</td><td style=\"text-align: right;\">64.1887</td><td style=\"text-align: right;\">6.08446</td><td style=\"text-align: right;\">nan      </td></tr>\n",
       "<tr><td>DeepLearning_grid__3_AutoML_20210821_121341_model_1</td><td style=\"text-align: right;\">                 69.2307</td><td style=\"text-align: right;\">8.3205 </td><td style=\"text-align: right;\">69.2307</td><td style=\"text-align: right;\">6.88942</td><td style=\"text-align: right;\">  1.33756</td></tr>\n",
       "<tr><td>XRT_1_AutoML_20210821_121341                       </td><td style=\"text-align: right;\">                 70.2764</td><td style=\"text-align: right;\">8.3831 </td><td style=\"text-align: right;\">70.2764</td><td style=\"text-align: right;\">6.41464</td><td style=\"text-align: right;\">  1.24133</td></tr>\n",
       "<tr><td>DRF_1_AutoML_20210821_121341                       </td><td style=\"text-align: right;\">                 71.5332</td><td style=\"text-align: right;\">8.45773</td><td style=\"text-align: right;\">71.5332</td><td style=\"text-align: right;\">6.46767</td><td style=\"text-align: right;\">  1.24643</td></tr>\n",
       "</tbody>\n",
       "</table>"
      ]
     },
     "metadata": {},
     "output_type": "display_data"
    },
    {
     "data": {
      "text/plain": []
     },
     "execution_count": 31,
     "metadata": {},
     "output_type": "execute_result"
    }
   ],
   "source": [
    "lb = aml.leaderboard\n",
    "lb.head(rows=lb.nrows)"
   ]
  },
  {
   "cell_type": "code",
   "execution_count": 30,
   "id": "512bb20b-b17e-430d-a937-09fb31257194",
   "metadata": {},
   "outputs": [
    {
     "name": "stdout",
     "output_type": "stream",
     "text": [
      "stackedensemble prediction progress: |████████████████████████████████████| 100%\n"
     ]
    }
   ],
   "source": [
    "preds = aml.predict(test)"
   ]
  },
  {
   "cell_type": "code",
   "execution_count": null,
   "id": "c216d91c-3ef5-4cd1-b99f-9adaf19079e5",
   "metadata": {},
   "outputs": [],
   "source": [
    "# Convert submission to Dataframe, then to csv\n",
    "submission=pd.DataFrame({\n",
    "    \"id\": h2o.as_list(test[\"id\"], use_pandas=True).values[:,0],\n",
    "    \"loss\": h2o.as_list(preds, use_pandas=True).values[:,0]\n",
    "    \n",
    "})\n",
    "\n",
    "submission.to_csv(\"submission.csv\",index=False)"
   ]
  },
  {
   "cell_type": "markdown",
   "id": "309f35b9",
   "metadata": {},
   "source": [
    "# Sklearn Ensemble"
   ]
  },
  {
   "cell_type": "code",
   "execution_count": null,
   "id": "ad09895e",
   "metadata": {},
   "outputs": [],
   "source": [
    "from sklearn.ensemble import VotingRegressor"
   ]
  },
  {
   "cell_type": "code",
   "execution_count": null,
   "id": "889aa8e8",
   "metadata": {},
   "outputs": [],
   "source": []
  }
 ],
 "metadata": {
  "kernelspec": {
   "display_name": "Python 3",
   "language": "python",
   "name": "python3"
  },
  "language_info": {
   "codemirror_mode": {
    "name": "ipython",
    "version": 3
   },
   "file_extension": ".py",
   "mimetype": "text/x-python",
   "name": "python",
   "nbconvert_exporter": "python",
   "pygments_lexer": "ipython3",
   "version": "3.8.8"
  },
  "toc": {
   "base_numbering": 1,
   "nav_menu": {},
   "number_sections": true,
   "sideBar": true,
   "skip_h1_title": false,
   "title_cell": "Table of Contents",
   "title_sidebar": "Contents",
   "toc_cell": false,
   "toc_position": {},
   "toc_section_display": true,
   "toc_window_display": false
  },
  "varInspector": {
   "cols": {
    "lenName": 16,
    "lenType": 16,
    "lenVar": 40
   },
   "kernels_config": {
    "python": {
     "delete_cmd_postfix": "",
     "delete_cmd_prefix": "del ",
     "library": "var_list.py",
     "varRefreshCmd": "print(var_dic_list())"
    },
    "r": {
     "delete_cmd_postfix": ") ",
     "delete_cmd_prefix": "rm(",
     "library": "var_list.r",
     "varRefreshCmd": "cat(var_dic_list()) "
    }
   },
   "types_to_exclude": [
    "module",
    "function",
    "builtin_function_or_method",
    "instance",
    "_Feature"
   ],
   "window_display": false
  }
 },
 "nbformat": 4,
 "nbformat_minor": 5
}
