{
 "cells": [
  {
   "cell_type": "code",
   "execution_count": null,
   "metadata": {
    "_cell_guid": "b1076dfc-b9ad-4769-8c92-a6c4dae69d19",
    "_uuid": "8f2839f25d086af736a60e9eeb907d3b93b6e0e5",
    "tags": []
   },
   "outputs": [],
   "source": [
    "# This Python 3 environment comes with many helpful analytics libraries installed\n",
    "# It is defined by the kaggle/python Docker image: https://github.com/kaggle/docker-python\n",
    "# For example, here's several helpful packages to load\n",
    "\n",
    "import numpy as np # linear algebra\n",
    "import pandas as pd # data processing, CSV file I/O (e.g. pd.read_csv)\n",
    "\n",
    "# Input data files are available in the read-only \"../input/\" directory\n",
    "# For example, running this (by clicking run or pressing Shift+Enter) will list all files under the input directory\n",
    "\n",
    "import os\n",
    "for dirname, _, filenames in os.walk('/kaggle/input'):\n",
    "    for filename in filenames:\n",
    "        print(os.path.join(dirname, filename))\n",
    "\n",
    "# You can write up to 20GB to the current directory (/kaggle/working/) that gets preserved as output when you create a version using \"Save & Run All\" \n",
    "# You can also write temporary files to /kaggle/temp/, but they won't be saved outside of the current session"
   ]
  },
  {
   "cell_type": "code",
   "execution_count": null,
   "metadata": {
    "tags": []
   },
   "outputs": [],
   "source": [
    "import warnings\n",
    "warnings.filterwarnings('ignore')"
   ]
  },
  {
   "cell_type": "code",
   "execution_count": null,
   "metadata": {},
   "outputs": [],
   "source": [
    "import pandas as pd\n",
    "import numpy as np\n",
    "\n",
    "import xgboost as xgb"
   ]
  },
  {
   "cell_type": "code",
   "execution_count": null,
   "metadata": {},
   "outputs": [],
   "source": [
    "train = pd.read_csv('../input/tabular-playground-series-aug-2021/train.csv')\n",
    "test = pd.read_csv('../input/tabular-playground-series-aug-2021/test.csv')"
   ]
  },
  {
   "cell_type": "code",
   "execution_count": null,
   "metadata": {},
   "outputs": [],
   "source": [
    "train.head()"
   ]
  },
  {
   "cell_type": "code",
   "execution_count": null,
   "metadata": {},
   "outputs": [],
   "source": [
    "X = train.drop(['id','loss'], axis=1)\n",
    "y = train['loss']\n",
    "\n",
    "test=test.drop('id',axis=1)"
   ]
  },
  {
   "cell_type": "markdown",
   "metadata": {
    "execution": {
     "iopub.execute_input": "2021-08-11T21:22:23.937003Z",
     "iopub.status.busy": "2021-08-11T21:22:23.936652Z",
     "iopub.status.idle": "2021-08-11T21:22:23.946625Z",
     "shell.execute_reply": "2021-08-11T21:22:23.945495Z",
     "shell.execute_reply.started": "2021-08-11T21:22:23.936968Z"
    }
   },
   "source": [
    "params = {'n_estimators':5000,\n",
    "          'learning_rate': 0.02,\n",
    "          'subsample': 0.5,\n",
    "          'colsample_bytree': 0.7,\n",
    "          'max_depth': 6,\n",
    "          'booster': 'gbtree',\n",
    "          'tree_method': 'gpu_hist',\n",
    "          'reg_lambda': 60,\n",
    "          'reg_alpha': 60,\n",
    "           'n_jobs': 4}"
   ]
  },
  {
   "cell_type": "markdown",
   "metadata": {
    "execution": {
     "iopub.execute_input": "2021-08-11T21:22:23.952045Z",
     "iopub.status.busy": "2021-08-11T21:22:23.9516Z",
     "iopub.status.idle": "2021-08-11T21:36:25.692282Z",
     "shell.execute_reply": "2021-08-11T21:36:25.691454Z",
     "shell.execute_reply.started": "2021-08-11T21:22:23.95201Z"
    }
   },
   "source": [
    "from xgboost import XGBRegressor\n",
    "from sklearn.metrics import mean_squared_error\n",
    "from sklearn.model_selection import StratifiedKFold, StratifiedShuffleSplit\n",
    "\n",
    "splits = 12\n",
    "stf = StratifiedKFold(n_splits=splits, shuffle=True)\n",
    "oof= np.zeros((X.shape[0],))\n",
    "prediction = 0\n",
    "model_fi = 0\n",
    "total_mean_rmse = 0\n",
    "\n",
    "for num, (train_id, valid_id) in enumerate(stf.split(X, y)):\n",
    "    X_train, X_valid = X.loc[train_id], X.loc[valid_id]\n",
    "    y_train, y_valid = y.loc[train_id], y.loc[valid_id]\n",
    "    \n",
    "    model = XGBRegressor(**params)\n",
    "    model.fit(X_train, y_train,\n",
    "              eval_set=[(X_train, y_train), (X_valid, y_valid)],\n",
    "              eval_metric=\"rmse\",verbose=0)\n",
    "    \n",
    "    prediction += model.predict(test) / splits\n",
    "    oof[valid_id] = model.predict(X_valid)\n",
    "    oof[oof < 0] = 0\n",
    "\n",
    "    fold_rmse = np.sqrt(mean_squared_error(y_valid, oof[valid_id]))\n",
    "    print(f\"Fold {num} RMSE: {fold_rmse}\")"
   ]
  },
  {
   "cell_type": "markdown",
   "metadata": {
    "execution": {
     "iopub.execute_input": "2021-08-11T21:36:25.695299Z",
     "iopub.status.busy": "2021-08-11T21:36:25.69505Z",
     "iopub.status.idle": "2021-08-11T21:36:30.527538Z",
     "shell.execute_reply": "2021-08-11T21:36:30.526402Z",
     "shell.execute_reply.started": "2021-08-11T21:36:25.695274Z"
    }
   },
   "source": [
    "model.feature_importances_"
   ]
  },
  {
   "cell_type": "markdown",
   "metadata": {
    "execution": {
     "iopub.execute_input": "2021-08-10T18:54:00.278866Z",
     "iopub.status.busy": "2021-08-10T18:54:00.278485Z",
     "iopub.status.idle": "2021-08-10T18:54:00.705619Z",
     "shell.execute_reply": "2021-08-10T18:54:00.704728Z",
     "shell.execute_reply.started": "2021-08-10T18:54:00.278806Z"
    }
   },
   "source": [
    "sub=pd.read_csv(\"../input/tabular-playground-series-aug-2021/sample_submission.csv\")\n",
    "sub[\"loss\"] = prediction\n",
    "\n",
    "sub.to_csv('submission.csv', index=False)"
   ]
  },
  {
   "cell_type": "code",
   "execution_count": null,
   "metadata": {},
   "outputs": [],
   "source": [
    "import optuna\n",
    "#optuna.logging.set_verbosity(optuna.logging.WARNING) #suppress message while running\n",
    "\n",
    "from sklearn.model_selection import train_test_split\n",
    "from sklearn.metrics import mean_squared_error\n",
    "from xgboost import XGBRegressor"
   ]
  },
  {
   "cell_type": "code",
   "execution_count": null,
   "metadata": {},
   "outputs": [],
   "source": [
    "from IPython.core.interactiveshell import InteractiveShell\n",
    "InteractiveShell.ast_node_interactivity = \"all\""
   ]
  },
  {
   "cell_type": "code",
   "execution_count": null,
   "metadata": {},
   "outputs": [],
   "source": [
    "def objective(trial,data=X,target=y):\n",
    "    \n",
    "    train_x, test_x, train_y, test_y = train_test_split(data, target, test_size=0.15,random_state=42)\n",
    "    params = {\n",
    "        'n_estimators':5000,\n",
    "        'learning_rate': trial.suggest_categorical('learning_rate', [0.005,0.007,0.009,0.01,0.015,0.02]),\n",
    "        'subsample': trial.suggest_categorical('subsample', [0.4,0.5,0.6,0.7]),\n",
    "        'colsample_bytree': trial.suggest_categorical('colsample_bytree', [0.3,0.4,0.5,0.6,0.7,0.8,0.9,1.0]),\n",
    "        'max_depth': trial.suggest_categorical('max_depth', [5,7,9,11,13,15,17,20]),\n",
    "        'booster': 'gbtree',\n",
    "        'tree_method': 'gpu_hist', #computer with GPU\n",
    "#       'tree_method': 'hist',\n",
    "        'reg_lambda': trial.suggest_int('reg_lambda', 30.0, 60.0),\n",
    "        'reg_alpha': trial.suggest_int('reg_alpha', 30.0, 60.0),\n",
    "        'n_jobs': 4}\n",
    "    model = xgb.XGBRegressor(**params)  \n",
    "    \n",
    "    model.fit(train_x,train_y,eval_set=[(test_x,test_y)],early_stopping_rounds=100,verbose=False)\n",
    "    \n",
    "    preds = model.predict(test_x)\n",
    "    \n",
    "    rmse = mean_squared_error(test_y, preds,squared=False)\n",
    "    \n",
    "    return rmse"
   ]
  },
  {
   "cell_type": "code",
   "execution_count": null,
   "metadata": {},
   "outputs": [],
   "source": [
    "study = optuna.create_study(direction='minimize')\n",
    "study.optimize(objective, n_trials=50, gc_after_trial=True)\n",
    "print('Number of finished trials:', len(study.trials))\n",
    "print('Best trial:', study.best_trial.params)"
   ]
  },
  {
   "cell_type": "code",
   "execution_count": null,
   "metadata": {},
   "outputs": [],
   "source": [
    "study.trials_dataframe()"
   ]
  },
  {
   "cell_type": "code",
   "execution_count": null,
   "metadata": {},
   "outputs": [],
   "source": [
    "#plot_optimization_history: shows the scores from all trials as well as the best score so far at each point.\n",
    "optuna.visualization.plot_optimization_history(study)\n",
    "\n",
    "#plot_parallel_coordinate: interactively visualizes the hyperparameters and scores\n",
    "optuna.visualization.plot_parallel_coordinate(study)\n",
    "\n",
    "#plot_slice: shows the evolution of the search. You can see where in the hyperparameter space your search\n",
    "# went and which parts of the space were explored more\n",
    "optuna.visualization.plot_slice(study)\n",
    "\n",
    "#plot_contour: plots parameter interactions on an interactive chart. \n",
    "# You can choose which hyperparameters you would like to explore.\n",
    "optuna.visualization.plot_contour(study, params=['reg_alpha',\n",
    "                            #'max_depth',\n",
    "                            'reg_lambda',\n",
    "                            'subsample',\n",
    "                            'learning_rate',\n",
    "                            'subsample'])\n",
    "\n",
    "#Visualize parameter importances.\n",
    "optuna.visualization.plot_param_importances(study)\n",
    "\n",
    "#Visualize empirical distribution function\n",
    "optuna.visualization.plot_edf(study)"
   ]
  },
  {
   "cell_type": "markdown",
   "metadata": {
    "execution": {
     "iopub.execute_input": "2021-08-11T21:57:49.943596Z",
     "iopub.status.busy": "2021-08-11T21:57:49.943272Z",
     "iopub.status.idle": "2021-08-11T22:01:43.47942Z",
     "shell.execute_reply": "2021-08-11T22:01:43.477444Z",
     "shell.execute_reply.started": "2021-08-11T21:57:49.943563Z"
    }
   },
   "source": [
    "#Best trial: {'learning_rate': 0, 'subsample': 0, 'colsample_bytree': 1.0, 'max_depth': 7, 'reg_lambda': 0.00487015406161206, 'reg_alpha': 0.001777462879152213}\n",
    "\n",
    "params = {'n_estimators':5000,\n",
    "          'learning_rate': 0.02,\n",
    "#          'subsample': 0.5,\n",
    "          'colsample_bytree': 1,\n",
    "          'max_depth': 7,\n",
    "          'booster': 'gbtree',\n",
    "          'tree_method': 'gpu_hist',\n",
    "          'reg_lambda': 0.0487015406161206,\n",
    "          'reg_alpha': 0.001777462879152213,\n",
    "           'n_jobs': 4}\n",
    "\n",
    "splits = 12\n",
    "stf = StratifiedKFold(n_splits=splits, shuffle=True)\n",
    "oof= np.zeros((X.shape[0],))\n",
    "prediction = 0\n",
    "model_fi = 0\n",
    "total_mean_rmse = 0\n",
    "\n",
    "for num, (train_id, valid_id) in enumerate(stf.split(X, y)):\n",
    "    X_train, X_valid = X.loc[train_id], X.loc[valid_id]\n",
    "    y_train, y_valid = y.loc[train_id], y.loc[valid_id]\n",
    "    \n",
    "    model = XGBRegressor(**params)\n",
    "    model.fit(X_train, y_train,\n",
    "              eval_set=[(X_train, y_train), (X_valid, y_valid)],\n",
    "              eval_metric=\"rmse\",verbose=0)\n",
    "    \n",
    "    prediction += model.predict(test) / splits\n",
    "    oof[valid_id] = model.predict(X_valid)\n",
    "    oof[oof < 0] = 0\n",
    "\n",
    "    fold_rmse = np.sqrt(mean_squared_error(y_valid, oof[valid_id]))\n",
    "    print(f\"Fold {num} RMSE: {fold_rmse}\")"
   ]
  }
 ],
 "metadata": {
  "kernelspec": {
   "display_name": "Python 3",
   "language": "python",
   "name": "python3"
  },
  "language_info": {
   "codemirror_mode": {
    "name": "ipython",
    "version": 3
   },
   "file_extension": ".py",
   "mimetype": "text/x-python",
   "name": "python",
   "nbconvert_exporter": "python",
   "pygments_lexer": "ipython3",
   "version": "3.8.8"
  }
 },
 "nbformat": 4,
 "nbformat_minor": 4
}
